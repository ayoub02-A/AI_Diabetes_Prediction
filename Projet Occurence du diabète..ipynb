{
 "cells": [
  {
   "cell_type": "markdown",
   "id": "e4e24060",
   "metadata": {},
   "source": [
    "# Projet : Occurence du Diabète"
   ]
  },
  {
   "cell_type": "markdown",
   "id": "cf82375c",
   "metadata": {},
   "source": [
    "## Ayoub Ouhdidou"
   ]
  },
  {
   "cell_type": "markdown",
   "id": "78b6f3ca",
   "metadata": {},
   "source": [
    "## Partie 1 :"
   ]
  },
  {
   "cell_type": "markdown",
   "id": "fd69e873",
   "metadata": {},
   "source": [
    "### 1 - préparation et nettoyage des données"
   ]
  },
  {
   "cell_type": "code",
   "execution_count": 1127,
   "id": "a712568e",
   "metadata": {},
   "outputs": [],
   "source": [
    "### à l'aide de la librairie pandas on va afficher notre données\n",
    "import pandas as pd"
   ]
  },
  {
   "cell_type": "code",
   "execution_count": 1128,
   "id": "19e77f64",
   "metadata": {},
   "outputs": [
    {
     "data": {
      "text/html": [
       "<div>\n",
       "<style scoped>\n",
       "    .dataframe tbody tr th:only-of-type {\n",
       "        vertical-align: middle;\n",
       "    }\n",
       "\n",
       "    .dataframe tbody tr th {\n",
       "        vertical-align: top;\n",
       "    }\n",
       "\n",
       "    .dataframe thead th {\n",
       "        text-align: right;\n",
       "    }\n",
       "</style>\n",
       "<table border=\"1\" class=\"dataframe\">\n",
       "  <thead>\n",
       "    <tr style=\"text-align: right;\">\n",
       "      <th></th>\n",
       "      <th>Pregnancies</th>\n",
       "      <th>Glucose</th>\n",
       "      <th>BloodPressure</th>\n",
       "      <th>SkinThickness</th>\n",
       "      <th>Insulin</th>\n",
       "      <th>BMI</th>\n",
       "      <th>DiabetesPedigreeFunction</th>\n",
       "      <th>Age</th>\n",
       "      <th>Outcome</th>\n",
       "    </tr>\n",
       "  </thead>\n",
       "  <tbody>\n",
       "    <tr>\n",
       "      <th>0</th>\n",
       "      <td>6</td>\n",
       "      <td>148</td>\n",
       "      <td>72</td>\n",
       "      <td>35</td>\n",
       "      <td>0</td>\n",
       "      <td>33.6</td>\n",
       "      <td>0.627</td>\n",
       "      <td>50</td>\n",
       "      <td>1</td>\n",
       "    </tr>\n",
       "    <tr>\n",
       "      <th>1</th>\n",
       "      <td>1</td>\n",
       "      <td>85</td>\n",
       "      <td>66</td>\n",
       "      <td>29</td>\n",
       "      <td>0</td>\n",
       "      <td>26.6</td>\n",
       "      <td>0.351</td>\n",
       "      <td>31</td>\n",
       "      <td>0</td>\n",
       "    </tr>\n",
       "    <tr>\n",
       "      <th>2</th>\n",
       "      <td>8</td>\n",
       "      <td>183</td>\n",
       "      <td>64</td>\n",
       "      <td>0</td>\n",
       "      <td>0</td>\n",
       "      <td>23.3</td>\n",
       "      <td>0.672</td>\n",
       "      <td>32</td>\n",
       "      <td>1</td>\n",
       "    </tr>\n",
       "    <tr>\n",
       "      <th>3</th>\n",
       "      <td>1</td>\n",
       "      <td>89</td>\n",
       "      <td>66</td>\n",
       "      <td>23</td>\n",
       "      <td>94</td>\n",
       "      <td>28.1</td>\n",
       "      <td>0.167</td>\n",
       "      <td>21</td>\n",
       "      <td>0</td>\n",
       "    </tr>\n",
       "    <tr>\n",
       "      <th>4</th>\n",
       "      <td>0</td>\n",
       "      <td>137</td>\n",
       "      <td>40</td>\n",
       "      <td>35</td>\n",
       "      <td>168</td>\n",
       "      <td>43.1</td>\n",
       "      <td>2.288</td>\n",
       "      <td>33</td>\n",
       "      <td>1</td>\n",
       "    </tr>\n",
       "    <tr>\n",
       "      <th>...</th>\n",
       "      <td>...</td>\n",
       "      <td>...</td>\n",
       "      <td>...</td>\n",
       "      <td>...</td>\n",
       "      <td>...</td>\n",
       "      <td>...</td>\n",
       "      <td>...</td>\n",
       "      <td>...</td>\n",
       "      <td>...</td>\n",
       "    </tr>\n",
       "    <tr>\n",
       "      <th>763</th>\n",
       "      <td>10</td>\n",
       "      <td>101</td>\n",
       "      <td>76</td>\n",
       "      <td>48</td>\n",
       "      <td>180</td>\n",
       "      <td>32.9</td>\n",
       "      <td>0.171</td>\n",
       "      <td>63</td>\n",
       "      <td>0</td>\n",
       "    </tr>\n",
       "    <tr>\n",
       "      <th>764</th>\n",
       "      <td>2</td>\n",
       "      <td>122</td>\n",
       "      <td>70</td>\n",
       "      <td>27</td>\n",
       "      <td>0</td>\n",
       "      <td>36.8</td>\n",
       "      <td>0.340</td>\n",
       "      <td>27</td>\n",
       "      <td>0</td>\n",
       "    </tr>\n",
       "    <tr>\n",
       "      <th>765</th>\n",
       "      <td>5</td>\n",
       "      <td>121</td>\n",
       "      <td>72</td>\n",
       "      <td>23</td>\n",
       "      <td>112</td>\n",
       "      <td>26.2</td>\n",
       "      <td>0.245</td>\n",
       "      <td>30</td>\n",
       "      <td>0</td>\n",
       "    </tr>\n",
       "    <tr>\n",
       "      <th>766</th>\n",
       "      <td>1</td>\n",
       "      <td>126</td>\n",
       "      <td>60</td>\n",
       "      <td>0</td>\n",
       "      <td>0</td>\n",
       "      <td>30.1</td>\n",
       "      <td>0.349</td>\n",
       "      <td>47</td>\n",
       "      <td>1</td>\n",
       "    </tr>\n",
       "    <tr>\n",
       "      <th>767</th>\n",
       "      <td>1</td>\n",
       "      <td>93</td>\n",
       "      <td>70</td>\n",
       "      <td>31</td>\n",
       "      <td>0</td>\n",
       "      <td>30.4</td>\n",
       "      <td>0.315</td>\n",
       "      <td>23</td>\n",
       "      <td>0</td>\n",
       "    </tr>\n",
       "  </tbody>\n",
       "</table>\n",
       "<p>768 rows × 9 columns</p>\n",
       "</div>"
      ],
      "text/plain": [
       "     Pregnancies  Glucose  BloodPressure  SkinThickness  Insulin   BMI  \\\n",
       "0              6      148             72             35        0  33.6   \n",
       "1              1       85             66             29        0  26.6   \n",
       "2              8      183             64              0        0  23.3   \n",
       "3              1       89             66             23       94  28.1   \n",
       "4              0      137             40             35      168  43.1   \n",
       "..           ...      ...            ...            ...      ...   ...   \n",
       "763           10      101             76             48      180  32.9   \n",
       "764            2      122             70             27        0  36.8   \n",
       "765            5      121             72             23      112  26.2   \n",
       "766            1      126             60              0        0  30.1   \n",
       "767            1       93             70             31        0  30.4   \n",
       "\n",
       "     DiabetesPedigreeFunction  Age  Outcome  \n",
       "0                       0.627   50        1  \n",
       "1                       0.351   31        0  \n",
       "2                       0.672   32        1  \n",
       "3                       0.167   21        0  \n",
       "4                       2.288   33        1  \n",
       "..                        ...  ...      ...  \n",
       "763                     0.171   63        0  \n",
       "764                     0.340   27        0  \n",
       "765                     0.245   30        0  \n",
       "766                     0.349   47        1  \n",
       "767                     0.315   23        0  \n",
       "\n",
       "[768 rows x 9 columns]"
      ]
     },
     "execution_count": 1128,
     "metadata": {},
     "output_type": "execute_result"
    }
   ],
   "source": [
    "data=pd.read_csv(r'C:\\Users\\hp\\Desktop\\BGI S5\\Projet S5\\projet/diabetes.csv',encoding=\"latin=1\")\n",
    "data"
   ]
  },
  {
   "cell_type": "code",
   "execution_count": 1129,
   "id": "ced7fdf4",
   "metadata": {},
   "outputs": [
    {
     "data": {
      "text/html": [
       "<div>\n",
       "<style scoped>\n",
       "    .dataframe tbody tr th:only-of-type {\n",
       "        vertical-align: middle;\n",
       "    }\n",
       "\n",
       "    .dataframe tbody tr th {\n",
       "        vertical-align: top;\n",
       "    }\n",
       "\n",
       "    .dataframe thead th {\n",
       "        text-align: right;\n",
       "    }\n",
       "</style>\n",
       "<table border=\"1\" class=\"dataframe\">\n",
       "  <thead>\n",
       "    <tr style=\"text-align: right;\">\n",
       "      <th></th>\n",
       "      <th>Pregnancies</th>\n",
       "      <th>Glucose</th>\n",
       "      <th>BloodPressure</th>\n",
       "      <th>SkinThickness</th>\n",
       "      <th>Insulin</th>\n",
       "      <th>BMI</th>\n",
       "      <th>DiabetesPedigreeFunction</th>\n",
       "      <th>Age</th>\n",
       "      <th>Outcome</th>\n",
       "    </tr>\n",
       "  </thead>\n",
       "  <tbody>\n",
       "    <tr>\n",
       "      <th>0</th>\n",
       "      <td>6</td>\n",
       "      <td>148</td>\n",
       "      <td>72</td>\n",
       "      <td>35</td>\n",
       "      <td>0</td>\n",
       "      <td>33.6</td>\n",
       "      <td>0.627</td>\n",
       "      <td>50</td>\n",
       "      <td>1</td>\n",
       "    </tr>\n",
       "    <tr>\n",
       "      <th>1</th>\n",
       "      <td>1</td>\n",
       "      <td>85</td>\n",
       "      <td>66</td>\n",
       "      <td>29</td>\n",
       "      <td>0</td>\n",
       "      <td>26.6</td>\n",
       "      <td>0.351</td>\n",
       "      <td>31</td>\n",
       "      <td>0</td>\n",
       "    </tr>\n",
       "    <tr>\n",
       "      <th>2</th>\n",
       "      <td>8</td>\n",
       "      <td>183</td>\n",
       "      <td>64</td>\n",
       "      <td>0</td>\n",
       "      <td>0</td>\n",
       "      <td>23.3</td>\n",
       "      <td>0.672</td>\n",
       "      <td>32</td>\n",
       "      <td>1</td>\n",
       "    </tr>\n",
       "    <tr>\n",
       "      <th>3</th>\n",
       "      <td>1</td>\n",
       "      <td>89</td>\n",
       "      <td>66</td>\n",
       "      <td>23</td>\n",
       "      <td>94</td>\n",
       "      <td>28.1</td>\n",
       "      <td>0.167</td>\n",
       "      <td>21</td>\n",
       "      <td>0</td>\n",
       "    </tr>\n",
       "    <tr>\n",
       "      <th>4</th>\n",
       "      <td>0</td>\n",
       "      <td>137</td>\n",
       "      <td>40</td>\n",
       "      <td>35</td>\n",
       "      <td>168</td>\n",
       "      <td>43.1</td>\n",
       "      <td>2.288</td>\n",
       "      <td>33</td>\n",
       "      <td>1</td>\n",
       "    </tr>\n",
       "  </tbody>\n",
       "</table>\n",
       "</div>"
      ],
      "text/plain": [
       "   Pregnancies  Glucose  BloodPressure  SkinThickness  Insulin   BMI  \\\n",
       "0            6      148             72             35        0  33.6   \n",
       "1            1       85             66             29        0  26.6   \n",
       "2            8      183             64              0        0  23.3   \n",
       "3            1       89             66             23       94  28.1   \n",
       "4            0      137             40             35      168  43.1   \n",
       "\n",
       "   DiabetesPedigreeFunction  Age  Outcome  \n",
       "0                     0.627   50        1  \n",
       "1                     0.351   31        0  \n",
       "2                     0.672   32        1  \n",
       "3                     0.167   21        0  \n",
       "4                     2.288   33        1  "
      ]
     },
     "execution_count": 1129,
     "metadata": {},
     "output_type": "execute_result"
    }
   ],
   "source": [
    "data.head()"
   ]
  },
  {
   "cell_type": "code",
   "execution_count": 1130,
   "id": "80dc6b0c",
   "metadata": {},
   "outputs": [
    {
     "data": {
      "text/html": [
       "<div>\n",
       "<style scoped>\n",
       "    .dataframe tbody tr th:only-of-type {\n",
       "        vertical-align: middle;\n",
       "    }\n",
       "\n",
       "    .dataframe tbody tr th {\n",
       "        vertical-align: top;\n",
       "    }\n",
       "\n",
       "    .dataframe thead th {\n",
       "        text-align: right;\n",
       "    }\n",
       "</style>\n",
       "<table border=\"1\" class=\"dataframe\">\n",
       "  <thead>\n",
       "    <tr style=\"text-align: right;\">\n",
       "      <th></th>\n",
       "      <th>Pregnancies</th>\n",
       "      <th>Glucose</th>\n",
       "      <th>BloodPressure</th>\n",
       "      <th>SkinThickness</th>\n",
       "      <th>Insulin</th>\n",
       "      <th>BMI</th>\n",
       "      <th>DiabetesPedigreeFunction</th>\n",
       "      <th>Age</th>\n",
       "      <th>Outcome</th>\n",
       "    </tr>\n",
       "  </thead>\n",
       "  <tbody>\n",
       "    <tr>\n",
       "      <th>count</th>\n",
       "      <td>768.000000</td>\n",
       "      <td>768.000000</td>\n",
       "      <td>768.000000</td>\n",
       "      <td>768.000000</td>\n",
       "      <td>768.000000</td>\n",
       "      <td>768.000000</td>\n",
       "      <td>768.000000</td>\n",
       "      <td>768.000000</td>\n",
       "      <td>768.000000</td>\n",
       "    </tr>\n",
       "    <tr>\n",
       "      <th>mean</th>\n",
       "      <td>3.845052</td>\n",
       "      <td>120.894531</td>\n",
       "      <td>69.105469</td>\n",
       "      <td>20.536458</td>\n",
       "      <td>79.799479</td>\n",
       "      <td>31.992578</td>\n",
       "      <td>0.471876</td>\n",
       "      <td>33.240885</td>\n",
       "      <td>0.348958</td>\n",
       "    </tr>\n",
       "    <tr>\n",
       "      <th>std</th>\n",
       "      <td>3.369578</td>\n",
       "      <td>31.972618</td>\n",
       "      <td>19.355807</td>\n",
       "      <td>15.952218</td>\n",
       "      <td>115.244002</td>\n",
       "      <td>7.884160</td>\n",
       "      <td>0.331329</td>\n",
       "      <td>11.760232</td>\n",
       "      <td>0.476951</td>\n",
       "    </tr>\n",
       "    <tr>\n",
       "      <th>min</th>\n",
       "      <td>0.000000</td>\n",
       "      <td>0.000000</td>\n",
       "      <td>0.000000</td>\n",
       "      <td>0.000000</td>\n",
       "      <td>0.000000</td>\n",
       "      <td>0.000000</td>\n",
       "      <td>0.078000</td>\n",
       "      <td>21.000000</td>\n",
       "      <td>0.000000</td>\n",
       "    </tr>\n",
       "    <tr>\n",
       "      <th>25%</th>\n",
       "      <td>1.000000</td>\n",
       "      <td>99.000000</td>\n",
       "      <td>62.000000</td>\n",
       "      <td>0.000000</td>\n",
       "      <td>0.000000</td>\n",
       "      <td>27.300000</td>\n",
       "      <td>0.243750</td>\n",
       "      <td>24.000000</td>\n",
       "      <td>0.000000</td>\n",
       "    </tr>\n",
       "    <tr>\n",
       "      <th>50%</th>\n",
       "      <td>3.000000</td>\n",
       "      <td>117.000000</td>\n",
       "      <td>72.000000</td>\n",
       "      <td>23.000000</td>\n",
       "      <td>30.500000</td>\n",
       "      <td>32.000000</td>\n",
       "      <td>0.372500</td>\n",
       "      <td>29.000000</td>\n",
       "      <td>0.000000</td>\n",
       "    </tr>\n",
       "    <tr>\n",
       "      <th>75%</th>\n",
       "      <td>6.000000</td>\n",
       "      <td>140.250000</td>\n",
       "      <td>80.000000</td>\n",
       "      <td>32.000000</td>\n",
       "      <td>127.250000</td>\n",
       "      <td>36.600000</td>\n",
       "      <td>0.626250</td>\n",
       "      <td>41.000000</td>\n",
       "      <td>1.000000</td>\n",
       "    </tr>\n",
       "    <tr>\n",
       "      <th>max</th>\n",
       "      <td>17.000000</td>\n",
       "      <td>199.000000</td>\n",
       "      <td>122.000000</td>\n",
       "      <td>99.000000</td>\n",
       "      <td>846.000000</td>\n",
       "      <td>67.100000</td>\n",
       "      <td>2.420000</td>\n",
       "      <td>81.000000</td>\n",
       "      <td>1.000000</td>\n",
       "    </tr>\n",
       "  </tbody>\n",
       "</table>\n",
       "</div>"
      ],
      "text/plain": [
       "       Pregnancies     Glucose  BloodPressure  SkinThickness     Insulin  \\\n",
       "count   768.000000  768.000000     768.000000     768.000000  768.000000   \n",
       "mean      3.845052  120.894531      69.105469      20.536458   79.799479   \n",
       "std       3.369578   31.972618      19.355807      15.952218  115.244002   \n",
       "min       0.000000    0.000000       0.000000       0.000000    0.000000   \n",
       "25%       1.000000   99.000000      62.000000       0.000000    0.000000   \n",
       "50%       3.000000  117.000000      72.000000      23.000000   30.500000   \n",
       "75%       6.000000  140.250000      80.000000      32.000000  127.250000   \n",
       "max      17.000000  199.000000     122.000000      99.000000  846.000000   \n",
       "\n",
       "              BMI  DiabetesPedigreeFunction         Age     Outcome  \n",
       "count  768.000000                768.000000  768.000000  768.000000  \n",
       "mean    31.992578                  0.471876   33.240885    0.348958  \n",
       "std      7.884160                  0.331329   11.760232    0.476951  \n",
       "min      0.000000                  0.078000   21.000000    0.000000  \n",
       "25%     27.300000                  0.243750   24.000000    0.000000  \n",
       "50%     32.000000                  0.372500   29.000000    0.000000  \n",
       "75%     36.600000                  0.626250   41.000000    1.000000  \n",
       "max     67.100000                  2.420000   81.000000    1.000000  "
      ]
     },
     "execution_count": 1130,
     "metadata": {},
     "output_type": "execute_result"
    }
   ],
   "source": [
    "### une description détaillées de données\n",
    "data.describe()"
   ]
  },
  {
   "cell_type": "code",
   "execution_count": 1131,
   "id": "ab812564",
   "metadata": {},
   "outputs": [
    {
     "data": {
      "text/html": [
       "<div>\n",
       "<style scoped>\n",
       "    .dataframe tbody tr th:only-of-type {\n",
       "        vertical-align: middle;\n",
       "    }\n",
       "\n",
       "    .dataframe tbody tr th {\n",
       "        vertical-align: top;\n",
       "    }\n",
       "\n",
       "    .dataframe thead th {\n",
       "        text-align: right;\n",
       "    }\n",
       "</style>\n",
       "<table border=\"1\" class=\"dataframe\">\n",
       "  <thead>\n",
       "    <tr style=\"text-align: right;\">\n",
       "      <th></th>\n",
       "      <th>Pregnancies</th>\n",
       "      <th>Glucose</th>\n",
       "      <th>BloodPressure</th>\n",
       "      <th>SkinThickness</th>\n",
       "      <th>Insulin</th>\n",
       "      <th>BMI</th>\n",
       "      <th>DiabetesPedigreeFunction</th>\n",
       "      <th>Age</th>\n",
       "    </tr>\n",
       "  </thead>\n",
       "  <tbody>\n",
       "    <tr>\n",
       "      <th>0</th>\n",
       "      <td>6</td>\n",
       "      <td>148</td>\n",
       "      <td>72</td>\n",
       "      <td>35</td>\n",
       "      <td>0</td>\n",
       "      <td>33.6</td>\n",
       "      <td>0.627</td>\n",
       "      <td>50</td>\n",
       "    </tr>\n",
       "    <tr>\n",
       "      <th>1</th>\n",
       "      <td>1</td>\n",
       "      <td>85</td>\n",
       "      <td>66</td>\n",
       "      <td>29</td>\n",
       "      <td>0</td>\n",
       "      <td>26.6</td>\n",
       "      <td>0.351</td>\n",
       "      <td>31</td>\n",
       "    </tr>\n",
       "    <tr>\n",
       "      <th>2</th>\n",
       "      <td>8</td>\n",
       "      <td>183</td>\n",
       "      <td>64</td>\n",
       "      <td>0</td>\n",
       "      <td>0</td>\n",
       "      <td>23.3</td>\n",
       "      <td>0.672</td>\n",
       "      <td>32</td>\n",
       "    </tr>\n",
       "    <tr>\n",
       "      <th>3</th>\n",
       "      <td>1</td>\n",
       "      <td>89</td>\n",
       "      <td>66</td>\n",
       "      <td>23</td>\n",
       "      <td>94</td>\n",
       "      <td>28.1</td>\n",
       "      <td>0.167</td>\n",
       "      <td>21</td>\n",
       "    </tr>\n",
       "    <tr>\n",
       "      <th>4</th>\n",
       "      <td>0</td>\n",
       "      <td>137</td>\n",
       "      <td>40</td>\n",
       "      <td>35</td>\n",
       "      <td>168</td>\n",
       "      <td>43.1</td>\n",
       "      <td>2.288</td>\n",
       "      <td>33</td>\n",
       "    </tr>\n",
       "    <tr>\n",
       "      <th>...</th>\n",
       "      <td>...</td>\n",
       "      <td>...</td>\n",
       "      <td>...</td>\n",
       "      <td>...</td>\n",
       "      <td>...</td>\n",
       "      <td>...</td>\n",
       "      <td>...</td>\n",
       "      <td>...</td>\n",
       "    </tr>\n",
       "    <tr>\n",
       "      <th>763</th>\n",
       "      <td>10</td>\n",
       "      <td>101</td>\n",
       "      <td>76</td>\n",
       "      <td>48</td>\n",
       "      <td>180</td>\n",
       "      <td>32.9</td>\n",
       "      <td>0.171</td>\n",
       "      <td>63</td>\n",
       "    </tr>\n",
       "    <tr>\n",
       "      <th>764</th>\n",
       "      <td>2</td>\n",
       "      <td>122</td>\n",
       "      <td>70</td>\n",
       "      <td>27</td>\n",
       "      <td>0</td>\n",
       "      <td>36.8</td>\n",
       "      <td>0.340</td>\n",
       "      <td>27</td>\n",
       "    </tr>\n",
       "    <tr>\n",
       "      <th>765</th>\n",
       "      <td>5</td>\n",
       "      <td>121</td>\n",
       "      <td>72</td>\n",
       "      <td>23</td>\n",
       "      <td>112</td>\n",
       "      <td>26.2</td>\n",
       "      <td>0.245</td>\n",
       "      <td>30</td>\n",
       "    </tr>\n",
       "    <tr>\n",
       "      <th>766</th>\n",
       "      <td>1</td>\n",
       "      <td>126</td>\n",
       "      <td>60</td>\n",
       "      <td>0</td>\n",
       "      <td>0</td>\n",
       "      <td>30.1</td>\n",
       "      <td>0.349</td>\n",
       "      <td>47</td>\n",
       "    </tr>\n",
       "    <tr>\n",
       "      <th>767</th>\n",
       "      <td>1</td>\n",
       "      <td>93</td>\n",
       "      <td>70</td>\n",
       "      <td>31</td>\n",
       "      <td>0</td>\n",
       "      <td>30.4</td>\n",
       "      <td>0.315</td>\n",
       "      <td>23</td>\n",
       "    </tr>\n",
       "  </tbody>\n",
       "</table>\n",
       "<p>768 rows × 8 columns</p>\n",
       "</div>"
      ],
      "text/plain": [
       "     Pregnancies  Glucose  BloodPressure  SkinThickness  Insulin   BMI  \\\n",
       "0              6      148             72             35        0  33.6   \n",
       "1              1       85             66             29        0  26.6   \n",
       "2              8      183             64              0        0  23.3   \n",
       "3              1       89             66             23       94  28.1   \n",
       "4              0      137             40             35      168  43.1   \n",
       "..           ...      ...            ...            ...      ...   ...   \n",
       "763           10      101             76             48      180  32.9   \n",
       "764            2      122             70             27        0  36.8   \n",
       "765            5      121             72             23      112  26.2   \n",
       "766            1      126             60              0        0  30.1   \n",
       "767            1       93             70             31        0  30.4   \n",
       "\n",
       "     DiabetesPedigreeFunction  Age  \n",
       "0                       0.627   50  \n",
       "1                       0.351   31  \n",
       "2                       0.672   32  \n",
       "3                       0.167   21  \n",
       "4                       2.288   33  \n",
       "..                        ...  ...  \n",
       "763                     0.171   63  \n",
       "764                     0.340   27  \n",
       "765                     0.245   30  \n",
       "766                     0.349   47  \n",
       "767                     0.315   23  \n",
       "\n",
       "[768 rows x 8 columns]"
      ]
     },
     "execution_count": 1131,
     "metadata": {},
     "output_type": "execute_result"
    }
   ],
   "source": [
    "### alors on va nettoyer notre données\n",
    "### X est lo dataFrame qui contient notre variable\n",
    "X=data[['Pregnancies',\n",
    "        'Glucose',\n",
    "        'BloodPressure',\n",
    "        'SkinThickness',\n",
    "        'Insulin',\n",
    "        'BMI',\n",
    "        'DiabetesPedigreeFunction',\n",
    "        'Age']]\n",
    "X"
   ]
  },
  {
   "cell_type": "code",
   "execution_count": 1132,
   "id": "7b4cc3ef",
   "metadata": {},
   "outputs": [
    {
     "data": {
      "text/html": [
       "<div>\n",
       "<style scoped>\n",
       "    .dataframe tbody tr th:only-of-type {\n",
       "        vertical-align: middle;\n",
       "    }\n",
       "\n",
       "    .dataframe tbody tr th {\n",
       "        vertical-align: top;\n",
       "    }\n",
       "\n",
       "    .dataframe thead th {\n",
       "        text-align: right;\n",
       "    }\n",
       "</style>\n",
       "<table border=\"1\" class=\"dataframe\">\n",
       "  <thead>\n",
       "    <tr style=\"text-align: right;\">\n",
       "      <th></th>\n",
       "      <th>Outcome</th>\n",
       "    </tr>\n",
       "  </thead>\n",
       "  <tbody>\n",
       "    <tr>\n",
       "      <th>0</th>\n",
       "      <td>1</td>\n",
       "    </tr>\n",
       "    <tr>\n",
       "      <th>1</th>\n",
       "      <td>0</td>\n",
       "    </tr>\n",
       "    <tr>\n",
       "      <th>2</th>\n",
       "      <td>1</td>\n",
       "    </tr>\n",
       "    <tr>\n",
       "      <th>3</th>\n",
       "      <td>0</td>\n",
       "    </tr>\n",
       "    <tr>\n",
       "      <th>4</th>\n",
       "      <td>1</td>\n",
       "    </tr>\n",
       "    <tr>\n",
       "      <th>...</th>\n",
       "      <td>...</td>\n",
       "    </tr>\n",
       "    <tr>\n",
       "      <th>763</th>\n",
       "      <td>0</td>\n",
       "    </tr>\n",
       "    <tr>\n",
       "      <th>764</th>\n",
       "      <td>0</td>\n",
       "    </tr>\n",
       "    <tr>\n",
       "      <th>765</th>\n",
       "      <td>0</td>\n",
       "    </tr>\n",
       "    <tr>\n",
       "      <th>766</th>\n",
       "      <td>1</td>\n",
       "    </tr>\n",
       "    <tr>\n",
       "      <th>767</th>\n",
       "      <td>0</td>\n",
       "    </tr>\n",
       "  </tbody>\n",
       "</table>\n",
       "<p>768 rows × 1 columns</p>\n",
       "</div>"
      ],
      "text/plain": [
       "     Outcome\n",
       "0          1\n",
       "1          0\n",
       "2          1\n",
       "3          0\n",
       "4          1\n",
       "..       ...\n",
       "763        0\n",
       "764        0\n",
       "765        0\n",
       "766        1\n",
       "767        0\n",
       "\n",
       "[768 rows x 1 columns]"
      ]
     },
     "execution_count": 1132,
     "metadata": {},
     "output_type": "execute_result"
    }
   ],
   "source": [
    "Y=data[['Outcome']]\n",
    "Y"
   ]
  },
  {
   "cell_type": "markdown",
   "id": "abee9e11",
   "metadata": {},
   "source": [
    "#### Normalisation des données"
   ]
  },
  {
   "cell_type": "code",
   "execution_count": 1133,
   "id": "c8febf6d",
   "metadata": {},
   "outputs": [
    {
     "name": "stdout",
     "output_type": "stream",
     "text": [
      "<class 'pandas.core.frame.DataFrame'>\n",
      "RangeIndex: 768 entries, 0 to 767\n",
      "Data columns (total 8 columns):\n",
      " #   Column                    Non-Null Count  Dtype  \n",
      "---  ------                    --------------  -----  \n",
      " 0   Pregnancies               768 non-null    int64  \n",
      " 1   Glucose                   768 non-null    int64  \n",
      " 2   BloodPressure             768 non-null    int64  \n",
      " 3   SkinThickness             768 non-null    int64  \n",
      " 4   Insulin                   768 non-null    int64  \n",
      " 5   BMI                       768 non-null    float64\n",
      " 6   DiabetesPedigreeFunction  768 non-null    float64\n",
      " 7   Age                       768 non-null    int64  \n",
      "dtypes: float64(2), int64(6)\n",
      "memory usage: 48.1 KB\n"
     ]
    }
   ],
   "source": [
    "### pour savoir les données à normaliser\n",
    "X.info()"
   ]
  },
  {
   "cell_type": "code",
   "execution_count": 1134,
   "id": "3b0bc757",
   "metadata": {},
   "outputs": [
    {
     "name": "stderr",
     "output_type": "stream",
     "text": [
      "C:\\Users\\hp\\AppData\\Local\\Temp/ipykernel_11832/3109112094.py:2: SettingWithCopyWarning: \n",
      "A value is trying to be set on a copy of a slice from a DataFrame.\n",
      "Try using .loc[row_indexer,col_indexer] = value instead\n",
      "\n",
      "See the caveats in the documentation: https://pandas.pydata.org/pandas-docs/stable/user_guide/indexing.html#returning-a-view-versus-a-copy\n",
      "  X['Pregnancies']=X['Pregnancies'].astype(float)\n",
      "C:\\Users\\hp\\AppData\\Local\\Temp/ipykernel_11832/3109112094.py:3: SettingWithCopyWarning: \n",
      "A value is trying to be set on a copy of a slice from a DataFrame.\n",
      "Try using .loc[row_indexer,col_indexer] = value instead\n",
      "\n",
      "See the caveats in the documentation: https://pandas.pydata.org/pandas-docs/stable/user_guide/indexing.html#returning-a-view-versus-a-copy\n",
      "  X['Glucose']=X['Glucose'].astype(float)\n",
      "C:\\Users\\hp\\AppData\\Local\\Temp/ipykernel_11832/3109112094.py:4: SettingWithCopyWarning: \n",
      "A value is trying to be set on a copy of a slice from a DataFrame.\n",
      "Try using .loc[row_indexer,col_indexer] = value instead\n",
      "\n",
      "See the caveats in the documentation: https://pandas.pydata.org/pandas-docs/stable/user_guide/indexing.html#returning-a-view-versus-a-copy\n",
      "  X['BloodPressure']=X['BloodPressure'].astype(float)\n",
      "C:\\Users\\hp\\AppData\\Local\\Temp/ipykernel_11832/3109112094.py:5: SettingWithCopyWarning: \n",
      "A value is trying to be set on a copy of a slice from a DataFrame.\n",
      "Try using .loc[row_indexer,col_indexer] = value instead\n",
      "\n",
      "See the caveats in the documentation: https://pandas.pydata.org/pandas-docs/stable/user_guide/indexing.html#returning-a-view-versus-a-copy\n",
      "  X['SkinThickness']=X['SkinThickness'].astype(float)\n",
      "C:\\Users\\hp\\AppData\\Local\\Temp/ipykernel_11832/3109112094.py:6: SettingWithCopyWarning: \n",
      "A value is trying to be set on a copy of a slice from a DataFrame.\n",
      "Try using .loc[row_indexer,col_indexer] = value instead\n",
      "\n",
      "See the caveats in the documentation: https://pandas.pydata.org/pandas-docs/stable/user_guide/indexing.html#returning-a-view-versus-a-copy\n",
      "  X['Insulin']=X['Insulin'].astype(float)\n",
      "C:\\Users\\hp\\AppData\\Local\\Temp/ipykernel_11832/3109112094.py:7: SettingWithCopyWarning: \n",
      "A value is trying to be set on a copy of a slice from a DataFrame.\n",
      "Try using .loc[row_indexer,col_indexer] = value instead\n",
      "\n",
      "See the caveats in the documentation: https://pandas.pydata.org/pandas-docs/stable/user_guide/indexing.html#returning-a-view-versus-a-copy\n",
      "  X['Age']=X['Age'].astype(float)\n"
     ]
    }
   ],
   "source": [
    "#### Normalisation des données\n",
    "X['Pregnancies']=X['Pregnancies'].astype(float)\n",
    "X['Glucose']=X['Glucose'].astype(float)\n",
    "X['BloodPressure']=X['BloodPressure'].astype(float)\n",
    "X['SkinThickness']=X['SkinThickness'].astype(float)\n",
    "X['Insulin']=X['Insulin'].astype(float)\n",
    "X['Age']=X['Age'].astype(float)"
   ]
  },
  {
   "cell_type": "code",
   "execution_count": 1135,
   "id": "c4861272",
   "metadata": {},
   "outputs": [
    {
     "name": "stdout",
     "output_type": "stream",
     "text": [
      "<class 'pandas.core.frame.DataFrame'>\n",
      "RangeIndex: 768 entries, 0 to 767\n",
      "Data columns (total 8 columns):\n",
      " #   Column                    Non-Null Count  Dtype  \n",
      "---  ------                    --------------  -----  \n",
      " 0   Pregnancies               768 non-null    float64\n",
      " 1   Glucose                   768 non-null    float64\n",
      " 2   BloodPressure             768 non-null    float64\n",
      " 3   SkinThickness             768 non-null    float64\n",
      " 4   Insulin                   768 non-null    float64\n",
      " 5   BMI                       768 non-null    float64\n",
      " 6   DiabetesPedigreeFunction  768 non-null    float64\n",
      " 7   Age                       768 non-null    float64\n",
      "dtypes: float64(8)\n",
      "memory usage: 48.1 KB\n"
     ]
    }
   ],
   "source": [
    "### les données sont normalisées\n",
    "X.info()"
   ]
  },
  {
   "cell_type": "code",
   "execution_count": 1136,
   "id": "48f104ee",
   "metadata": {},
   "outputs": [
    {
     "data": {
      "text/plain": [
       "array([[  6.   , 148.   ,  72.   , ...,  33.6  ,   0.627,  50.   ],\n",
       "       [  1.   ,  85.   ,  66.   , ...,  26.6  ,   0.351,  31.   ],\n",
       "       [  8.   , 183.   ,  64.   , ...,  23.3  ,   0.672,  32.   ],\n",
       "       ...,\n",
       "       [  5.   , 121.   ,  72.   , ...,  26.2  ,   0.245,  30.   ],\n",
       "       [  1.   , 126.   ,  60.   , ...,  30.1  ,   0.349,  47.   ],\n",
       "       [  1.   ,  93.   ,  70.   , ...,  30.4  ,   0.315,  23.   ]])"
      ]
     },
     "execution_count": 1136,
     "metadata": {},
     "output_type": "execute_result"
    }
   ],
   "source": [
    "### rendre notre dataFrame à une matrice.\n",
    "X_values = X.values\n",
    "X_values"
   ]
  },
  {
   "cell_type": "code",
   "execution_count": 1137,
   "id": "942b3b3d",
   "metadata": {},
   "outputs": [
    {
     "data": {
      "text/plain": [
       "array([1, 0, 1, 0, 1, 0, 1, 0, 1, 1, 0, 1, 0, 1, 1, 1, 1, 1, 0, 1, 0, 0,\n",
       "       1, 1, 1, 1, 1, 0, 0, 0, 0, 1, 0, 0, 0, 0, 0, 1, 1, 1, 0, 0, 0, 1,\n",
       "       0, 1, 0, 0, 1, 0, 0, 0, 0, 1, 0, 0, 1, 0, 0, 0, 0, 1, 0, 0, 1, 0,\n",
       "       1, 0, 0, 0, 1, 0, 1, 0, 0, 0, 0, 0, 1, 0, 0, 0, 0, 0, 1, 0, 0, 0,\n",
       "       1, 0, 0, 0, 0, 1, 0, 0, 0, 0, 0, 1, 1, 0, 0, 0, 0, 0, 0, 0, 0, 1,\n",
       "       1, 1, 0, 0, 1, 1, 1, 0, 0, 0, 1, 0, 0, 0, 1, 1, 0, 0, 1, 1, 1, 1,\n",
       "       1, 0, 0, 0, 0, 0, 0, 0, 0, 0, 0, 1, 0, 0, 0, 0, 0, 0, 0, 0, 1, 0,\n",
       "       1, 1, 0, 0, 0, 1, 0, 0, 0, 0, 1, 1, 0, 0, 0, 0, 1, 1, 0, 0, 0, 1,\n",
       "       0, 1, 0, 1, 0, 0, 0, 0, 0, 1, 1, 1, 1, 1, 0, 0, 1, 1, 0, 1, 0, 1,\n",
       "       1, 1, 0, 0, 0, 0, 0, 0, 1, 1, 0, 1, 0, 0, 0, 1, 1, 1, 1, 0, 1, 1,\n",
       "       1, 1, 0, 0, 0, 0, 0, 1, 0, 0, 1, 1, 0, 0, 0, 1, 1, 1, 1, 0, 0, 0,\n",
       "       1, 1, 0, 1, 0, 0, 0, 0, 0, 0, 0, 0, 1, 1, 0, 0, 0, 1, 0, 1, 0, 0,\n",
       "       1, 0, 1, 0, 0, 1, 1, 0, 0, 0, 0, 0, 1, 0, 0, 0, 1, 0, 0, 1, 1, 0,\n",
       "       0, 1, 0, 0, 0, 1, 1, 1, 0, 0, 1, 0, 1, 0, 1, 1, 0, 1, 0, 0, 1, 0,\n",
       "       1, 1, 0, 0, 1, 0, 1, 0, 0, 1, 0, 1, 0, 1, 1, 1, 0, 0, 1, 0, 1, 0,\n",
       "       0, 0, 1, 0, 0, 0, 0, 1, 1, 1, 0, 0, 0, 0, 0, 0, 0, 0, 0, 1, 0, 0,\n",
       "       0, 0, 0, 1, 1, 1, 0, 1, 1, 0, 0, 1, 0, 0, 1, 0, 0, 1, 1, 0, 0, 0,\n",
       "       0, 1, 0, 0, 1, 0, 0, 0, 0, 0, 0, 0, 1, 1, 1, 0, 0, 1, 0, 0, 1, 0,\n",
       "       0, 1, 0, 1, 1, 0, 1, 0, 1, 0, 1, 0, 1, 1, 0, 0, 0, 0, 1, 1, 0, 1,\n",
       "       0, 1, 0, 0, 0, 0, 1, 1, 0, 1, 0, 1, 0, 0, 0, 0, 0, 1, 0, 0, 0, 0,\n",
       "       1, 0, 0, 1, 1, 1, 0, 0, 1, 0, 0, 1, 0, 0, 0, 1, 0, 0, 1, 0, 0, 0,\n",
       "       0, 0, 0, 0, 0, 0, 1, 0, 0, 0, 0, 0, 0, 0, 1, 0, 0, 0, 1, 0, 0, 0,\n",
       "       1, 1, 0, 0, 0, 0, 0, 0, 0, 1, 0, 0, 0, 0, 1, 0, 0, 0, 1, 0, 0, 0,\n",
       "       1, 0, 0, 0, 1, 0, 0, 0, 0, 1, 1, 0, 0, 0, 0, 0, 0, 1, 0, 0, 0, 0,\n",
       "       0, 0, 0, 0, 0, 0, 0, 1, 0, 0, 0, 1, 1, 1, 1, 0, 0, 1, 1, 0, 0, 0,\n",
       "       0, 0, 0, 0, 0, 0, 0, 0, 0, 0, 1, 1, 0, 0, 0, 0, 0, 0, 0, 1, 0, 0,\n",
       "       0, 0, 0, 0, 0, 1, 0, 1, 1, 0, 0, 0, 1, 0, 1, 0, 1, 0, 1, 0, 1, 0,\n",
       "       0, 1, 0, 0, 1, 0, 0, 0, 0, 1, 1, 0, 1, 0, 0, 0, 0, 1, 1, 0, 1, 0,\n",
       "       0, 0, 1, 1, 0, 0, 0, 0, 0, 0, 0, 0, 0, 0, 1, 0, 0, 0, 0, 1, 0, 0,\n",
       "       1, 0, 0, 0, 1, 0, 0, 0, 1, 1, 1, 0, 0, 0, 0, 0, 0, 1, 0, 0, 0, 1,\n",
       "       0, 1, 1, 1, 1, 0, 1, 1, 0, 0, 0, 0, 0, 0, 0, 1, 1, 0, 1, 0, 0, 1,\n",
       "       0, 1, 0, 0, 0, 0, 0, 1, 0, 1, 0, 1, 0, 1, 1, 0, 0, 0, 0, 1, 1, 0,\n",
       "       0, 0, 1, 0, 1, 1, 0, 0, 1, 0, 0, 1, 1, 0, 0, 1, 0, 0, 1, 0, 0, 0,\n",
       "       0, 0, 0, 0, 1, 1, 1, 0, 0, 0, 0, 0, 0, 1, 1, 0, 0, 1, 0, 0, 1, 0,\n",
       "       1, 1, 1, 0, 0, 1, 1, 1, 0, 1, 0, 1, 0, 1, 0, 0, 0, 0, 1, 0],\n",
       "      dtype=int64)"
      ]
     },
     "execution_count": 1137,
     "metadata": {},
     "output_type": "execute_result"
    }
   ],
   "source": [
    "y=data['Outcome'].values\n",
    "y"
   ]
  },
  {
   "cell_type": "code",
   "execution_count": 1138,
   "id": "50befef1",
   "metadata": {},
   "outputs": [],
   "source": [
    "import matplotlib.pyplot as plt\n",
    "import seaborn as sns"
   ]
  },
  {
   "cell_type": "code",
   "execution_count": 1139,
   "id": "42d2f20c",
   "metadata": {},
   "outputs": [
    {
     "name": "stdout",
     "output_type": "stream",
     "text": [
      "Il y a 268 (34.90%) personnes atteints de diabète et les 500 (65.10%) autres qui n'ont pas reçu de diagnostic de maladie.\n"
     ]
    },
    {
     "data": {
      "image/png": "[encoded data removed]",
      "text/plain": [
       "<Figure size 432x288 with 2 Axes>"
      ]
     },
     "metadata": {
      "needs_background": "light"
     },
     "output_type": "display_data"
    }
   ],
   "source": [
    "### dans notre données voici un histogramme qui montre la catégorie infectée.\n",
    "num_diabetes = data[ \"Outcome\" ].sum()  ### calcul des cas infectés\n",
    "num_no_diabetes = data.shape[ 0 ] - num_diabetes  ### calcul des cas non infectés\n",
    "perc_diabetes = num_diabetes / data.shape[ 0 ] * 100 ### Pourcentage des cas infectés\n",
    "perc_no_diabetes = num_no_diabetes / data.shape[ 0 ] * 100 ### Pourcentage des cas non infectés\n",
    "print( \"Il y a %d (%.2f%%) personnes atteints de diabète et les %d (%.2f%%) autres qui n'ont pas reçu de diagnostic de maladie.\" % ( num_diabetes, perc_diabetes, num_no_diabetes, perc_no_diabetes ) )\n",
    "def plot_diabetes( normalize ):\n",
    "    plt.grid( False )\n",
    "    data.Outcome.value_counts( normalize=normalize ).plot( kind=\"bar\", grid=False, color=[ sns.color_palette()[ 0 ], sns.colors.xkcd_rgb.get( 'orange' ) ] )\n",
    "    plt.xticks( [ 0, 1 ], [ 'No', 'Yes' ], rotation=0 )\n",
    "    plt.xlabel( \"Diabetes\" )\n",
    "    \n",
    "    if ( normalize == False ):\n",
    "        plt.ylabel( \"Count\" )\n",
    "    else:\n",
    "        plt.ylabel( \"Percentage\" )    \n",
    "        \n",
    "    return\n",
    "    \n",
    "plt.subplot( 1, 2, 1 )\n",
    "plot_diabetes( False )\n",
    "plt.subplot( 1, 2, 2 )\n",
    "plot_diabetes( True )\n",
    "plt.tight_layout()\n",
    "plt.show()"
   ]
  },
  {
   "cell_type": "code",
   "execution_count": 1140,
   "id": "a995116a",
   "metadata": {},
   "outputs": [
    {
     "name": "stdout",
     "output_type": "stream",
     "text": [
      "<class 'pandas.core.frame.DataFrame'>\n",
      "RangeIndex: 768 entries, 0 to 767\n",
      "Data columns (total 8 columns):\n",
      " #   Column                    Non-Null Count  Dtype  \n",
      "---  ------                    --------------  -----  \n",
      " 0   Pregnancies               768 non-null    float64\n",
      " 1   Glucose                   768 non-null    float64\n",
      " 2   BloodPressure             768 non-null    float64\n",
      " 3   SkinThickness             768 non-null    float64\n",
      " 4   Insulin                   768 non-null    float64\n",
      " 5   BMI                       768 non-null    float64\n",
      " 6   DiabetesPedigreeFunction  768 non-null    float64\n",
      " 7   Age                       768 non-null    float64\n",
      "dtypes: float64(8)\n",
      "memory usage: 48.1 KB\n"
     ]
    },
    {
     "data": {
      "text/plain": [
       "array([[<AxesSubplot:title={'center':'Pregnancies'}>,\n",
       "        <AxesSubplot:title={'center':'Glucose'}>,\n",
       "        <AxesSubplot:title={'center':'BloodPressure'}>],\n",
       "       [<AxesSubplot:title={'center':'SkinThickness'}>,\n",
       "        <AxesSubplot:title={'center':'Insulin'}>,\n",
       "        <AxesSubplot:title={'center':'BMI'}>],\n",
       "       [<AxesSubplot:title={'center':'DiabetesPedigreeFunction'}>,\n",
       "        <AxesSubplot:title={'center':'Age'}>, <AxesSubplot:>]],\n",
       "      dtype=object)"
      ]
     },
     "execution_count": 1140,
     "metadata": {},
     "output_type": "execute_result"
    },
    {
     "data": {
      "image/png": "[encoded data removed]",
      "text/plain": [
       "<Figure size 1008x1152 with 9 Axes>"
      ]
     },
     "metadata": {
      "needs_background": "light"
     },
     "output_type": "display_data"
    }
   ],
   "source": [
    "### on va visualiser notre données d'après des Histogrammes.\n",
    "histogram=pd.DataFrame(X_values,columns=['Pregnancies','Glucose','BloodPressure','SkinThickness','Insulin',\n",
    "                                              'BMI','DiabetesPedigreeFunction','Age'])\n",
    "histogram.info()\n",
    "histogram.hist(figsize=(14,16))"
   ]
  },
  {
   "cell_type": "markdown",
   "id": "aaa58930",
   "metadata": {},
   "source": [
    "#### Standarisation des données"
   ]
  },
  {
   "cell_type": "code",
   "execution_count": 1141,
   "id": "12ff2eb1",
   "metadata": {},
   "outputs": [],
   "source": [
    "### on va standariser notre données a l'aide de preprocessing\n",
    "from sklearn import preprocessing\n",
    "### le processus de standarisation"
   ]
  },
  {
   "cell_type": "code",
   "execution_count": 1142,
   "id": "5be5d3de",
   "metadata": {},
   "outputs": [
    {
     "data": {
      "text/plain": [
       "StandardScaler()"
      ]
     },
     "execution_count": 1142,
     "metadata": {},
     "output_type": "execute_result"
    }
   ],
   "source": [
    "### transformer nos données pour que leur distribution ait une valeur moyenne de 0 et un écart-type de 1.\n",
    "scaler = preprocessing.StandardScaler().fit(X_values)\n",
    "scaler"
   ]
  },
  {
   "cell_type": "code",
   "execution_count": 1143,
   "id": "854612d6",
   "metadata": {},
   "outputs": [
    {
     "data": {
      "text/plain": [
       "array([  3.84505208, 120.89453125,  69.10546875,  20.53645833,\n",
       "        79.79947917,  31.99257812,   0.4718763 ,  33.24088542])"
      ]
     },
     "execution_count": 1143,
     "metadata": {},
     "output_type": "execute_result"
    }
   ],
   "source": [
    "### la moyenne de chaque variable\n",
    "scaler.mean_"
   ]
  },
  {
   "cell_type": "code",
   "execution_count": 1144,
   "id": "24d30a49",
   "metadata": {},
   "outputs": [
    {
     "data": {
      "text/plain": [
       "array([  3.36738361,  31.95179591,  19.34320163,  15.94182863,\n",
       "       115.16894926,   7.87902573,   0.33111282,  11.75257265])"
      ]
     },
     "execution_count": 1144,
     "metadata": {},
     "output_type": "execute_result"
    }
   ],
   "source": [
    "### écart-type de chaque variable\n",
    "scaler.scale_"
   ]
  },
  {
   "cell_type": "code",
   "execution_count": 1145,
   "id": "4030aeea",
   "metadata": {},
   "outputs": [
    {
     "data": {
      "text/plain": [
       "array([[ 0.63994726,  0.84832379,  0.14964075, ...,  0.20401277,\n",
       "         0.46849198,  1.4259954 ],\n",
       "       [-0.84488505, -1.12339636, -0.16054575, ..., -0.68442195,\n",
       "        -0.36506078, -0.19067191],\n",
       "       [ 1.23388019,  1.94372388, -0.26394125, ..., -1.10325546,\n",
       "         0.60439732, -0.10558415],\n",
       "       ...,\n",
       "       [ 0.3429808 ,  0.00330087,  0.14964075, ..., -0.73518964,\n",
       "        -0.68519336, -0.27575966],\n",
       "       [-0.84488505,  0.1597866 , -0.47073225, ..., -0.24020459,\n",
       "        -0.37110101,  1.17073215],\n",
       "       [-0.84488505, -0.8730192 ,  0.04624525, ..., -0.20212881,\n",
       "        -0.47378505, -0.87137393]])"
      ]
     },
     "execution_count": 1145,
     "metadata": {},
     "output_type": "execute_result"
    }
   ],
   "source": [
    "dataframe_scaled = scaler.transform(X_values)\n",
    "dataframe_scaled"
   ]
  },
  {
   "cell_type": "code",
   "execution_count": 1146,
   "id": "32d77d52",
   "metadata": {},
   "outputs": [
    {
     "name": "stdout",
     "output_type": "stream",
     "text": [
      "<class 'pandas.core.frame.DataFrame'>\n",
      "RangeIndex: 768 entries, 0 to 767\n",
      "Data columns (total 8 columns):\n",
      " #   Column                    Non-Null Count  Dtype  \n",
      "---  ------                    --------------  -----  \n",
      " 0   Pregnancies               768 non-null    float64\n",
      " 1   Glucose                   768 non-null    float64\n",
      " 2   BloodPressure             768 non-null    float64\n",
      " 3   SkinThickness             768 non-null    float64\n",
      " 4   Insulin                   768 non-null    float64\n",
      " 5   BMI                       768 non-null    float64\n",
      " 6   DiabetesPedigreeFunction  768 non-null    float64\n",
      " 7   Age                       768 non-null    float64\n",
      "dtypes: float64(8)\n",
      "memory usage: 48.1 KB\n"
     ]
    },
    {
     "data": {
      "text/plain": [
       "array([[<AxesSubplot:title={'center':'Pregnancies'}>,\n",
       "        <AxesSubplot:title={'center':'Glucose'}>,\n",
       "        <AxesSubplot:title={'center':'BloodPressure'}>],\n",
       "       [<AxesSubplot:title={'center':'SkinThickness'}>,\n",
       "        <AxesSubplot:title={'center':'Insulin'}>,\n",
       "        <AxesSubplot:title={'center':'BMI'}>],\n",
       "       [<AxesSubplot:title={'center':'DiabetesPedigreeFunction'}>,\n",
       "        <AxesSubplot:title={'center':'Age'}>, <AxesSubplot:>]],\n",
       "      dtype=object)"
      ]
     },
     "execution_count": 1146,
     "metadata": {},
     "output_type": "execute_result"
    },
    {
     "data": {
      "image/png": "[encoded data removed]",
      "text/plain": [
       "<Figure size 1008x1152 with 9 Axes>"
      ]
     },
     "metadata": {
      "needs_background": "light"
     },
     "output_type": "display_data"
    }
   ],
   "source": [
    "### on va visualiser notre données standarisées d'après des Histogrammes.\n",
    "histogram=pd.DataFrame(dataframe_scaled,columns=['Pregnancies','Glucose','BloodPressure','SkinThickness','Insulin',\n",
    "                                              'BMI','DiabetesPedigreeFunction','Age'])\n",
    "histogram.info()\n",
    "histogram.hist(figsize=(14,16))"
   ]
  },
  {
   "cell_type": "markdown",
   "id": "7d25ca67",
   "metadata": {},
   "source": [
    "### 2 - découpage des données"
   ]
  },
  {
   "cell_type": "code",
   "execution_count": 1147,
   "id": "3f0f0043",
   "metadata": {},
   "outputs": [],
   "source": [
    "### on va spliter les données\n",
    "from sklearn.model_selection import train_test_split"
   ]
  },
  {
   "cell_type": "code",
   "execution_count": 1148,
   "id": "47565970",
   "metadata": {},
   "outputs": [],
   "source": [
    "xtrain, xtest, ytrain, ytest = train_test_split(X_values, y, train_size=0.8)"
   ]
  },
  {
   "cell_type": "markdown",
   "id": "a612073b",
   "metadata": {},
   "source": [
    "### 3 - les Modèles :"
   ]
  },
  {
   "cell_type": "markdown",
   "id": "ffdc13e8",
   "metadata": {},
   "source": [
    "#### 3-1 - la Classification logistique"
   ]
  },
  {
   "cell_type": "code",
   "execution_count": 1149,
   "id": "8d35fc7b",
   "metadata": {},
   "outputs": [],
   "source": [
    "### a l'aide de SGDClassifier on va faire une régressions logistique.\n",
    "from sklearn.linear_model import SGDClassifier"
   ]
  },
  {
   "cell_type": "code",
   "execution_count": 1150,
   "id": "2327060e",
   "metadata": {},
   "outputs": [],
   "source": [
    "modelLOG=SGDClassifier(max_iter=1000, eta0=0.001,loss='log')\n",
    "### pour que notre classification soit logistique il faut qu'on ajout le paramaitre loss='log'"
   ]
  },
  {
   "cell_type": "code",
   "execution_count": 1151,
   "id": "d82d4cfb",
   "metadata": {},
   "outputs": [
    {
     "data": {
      "text/plain": [
       "SGDClassifier(eta0=0.001, loss='log')"
      ]
     },
     "execution_count": 1151,
     "metadata": {},
     "output_type": "execute_result"
    }
   ],
   "source": [
    "### on entraine le model\n",
    "modelLOG.fit(xtrain, ytrain)"
   ]
  },
  {
   "cell_type": "markdown",
   "id": "23c5b928",
   "metadata": {},
   "source": [
    "#### La matrice de confusion de notre modèle (logistique)"
   ]
  },
  {
   "cell_type": "code",
   "execution_count": 1152,
   "id": "25d5028c",
   "metadata": {},
   "outputs": [
    {
     "data": {
      "text/plain": [
       "array([[23, 78],\n",
       "       [ 8, 45]], dtype=int64)"
      ]
     },
     "execution_count": 1152,
     "metadata": {},
     "output_type": "execute_result"
    }
   ],
   "source": [
    "from sklearn.metrics import confusion_matrix\n",
    "y_predlog = modelLOG.predict(xtest)\n",
    "#on fait des prédictions\n",
    "cm = confusion_matrix(ytest, y_predlog)\n",
    "cm"
   ]
  },
  {
   "cell_type": "code",
   "execution_count": 1153,
   "id": "7f88ff97",
   "metadata": {},
   "outputs": [
    {
     "data": {
      "text/plain": [
       "Text(42.0, 0.5, 'Truth')"
      ]
     },
     "execution_count": 1153,
     "metadata": {},
     "output_type": "execute_result"
    },
    {
     "data": {
      "image/png": "[encoded data removed]",
      "text/plain": [
       "<Figure size 504x360 with 2 Axes>"
      ]
     },
     "metadata": {
      "needs_background": "light"
     },
     "output_type": "display_data"
    }
   ],
   "source": [
    "### on plot notre matrice :\n",
    "plt.figure(figsize=(7,5))\n",
    "sns.heatmap(cm, annot=True)\n",
    "plt.title('Matrice de confusion LOGISTIQUE')\n",
    "plt.xlabel('Predicted')\n",
    "plt.ylabel('Truth')"
   ]
  },
  {
   "cell_type": "code",
   "execution_count": 1154,
   "id": "767b0379",
   "metadata": {},
   "outputs": [
    {
     "name": "stdout",
     "output_type": "stream",
     "text": [
      "TP (True Positives) (1,1) : 45 des Femmes avec diabète et Notre prédiction de modèle a révélé qu'elles ont de diabète.\n",
      "TN (True Negatives) (0,0) : 23 des Femmes sans diabète et Notre prédiction de modèle a révélé qu'elles n'ont pas de diabète.\n",
      "FP (False Positives) (0,1) : 78 des Femmes sans diabète et Notre prédiction de modèle a révélé qu'elles ont de diabète.\n",
      "FN (False Negatives) (1,0): 8 des Femmes avec diabète et Notre prédiction de modèle a révélé qu'elles n'ont pas de diabète.\n"
     ]
    }
   ],
   "source": [
    "print( \"TP (True Positives) (1,1) : %d des Femmes avec diabète et Notre prédiction de modèle a révélé qu'elles ont de diabète.\"  % (cm[1,1]))\n",
    "print( \"TN (True Negatives) (0,0) : %d des Femmes sans diabète et Notre prédiction de modèle a révélé qu'elles n'ont pas de diabète.\"  % (cm[0,0]))\n",
    "print( \"FP (False Positives) (0,1) : %d des Femmes sans diabète et Notre prédiction de modèle a révélé qu'elles ont de diabète.\"  % (cm[0,1]))\n",
    "print( \"FN (False Negatives) (1,0): %d des Femmes avec diabète et Notre prédiction de modèle a révélé qu'elles n'ont pas de diabète.\"  % (cm[1,0]))"
   ]
  },
  {
   "cell_type": "code",
   "execution_count": 1155,
   "id": "7cb4c4af",
   "metadata": {},
   "outputs": [],
   "source": [
    "### pour calculer les mesures:\n",
    "from sklearn import metrics"
   ]
  },
  {
   "cell_type": "code",
   "execution_count": 1156,
   "id": "6991fdae",
   "metadata": {},
   "outputs": [
    {
     "name": "stdout",
     "output_type": "stream",
     "text": [
      "Précision: 0.36585365853658536\n"
     ]
    }
   ],
   "source": [
    "print(\"Précision:\",metrics.precision_score(ytest, y_predlog))\n",
    "### TP/(TP+FN)\n",
    "### il faut qu'il soit proche de 1"
   ]
  },
  {
   "cell_type": "code",
   "execution_count": 1157,
   "id": "45bf5fd0",
   "metadata": {},
   "outputs": [
    {
     "name": "stdout",
     "output_type": "stream",
     "text": [
      "Accuracy: 0.44155844155844154\n"
     ]
    }
   ],
   "source": [
    "print(\"Accuracy:\",metrics.accuracy_score(ytest, y_predlog))\n",
    "#La précision représente le nombre d'instances de données correctement classées sur le nombre total d'instances de données."
   ]
  },
  {
   "cell_type": "code",
   "execution_count": 1158,
   "id": "a87a99c6",
   "metadata": {},
   "outputs": [
    {
     "name": "stdout",
     "output_type": "stream",
     "text": [
      "Rappel: 0.8490566037735849\n"
     ]
    }
   ],
   "source": [
    "print(\"Rappel:\",metrics.recall_score(ytest, y_predlog))   \n",
    "### TP/(TP+FN)\n",
    "### il faut qu'il soit proche de 1"
   ]
  },
  {
   "cell_type": "code",
   "execution_count": 1159,
   "id": "b4216123",
   "metadata": {},
   "outputs": [
    {
     "name": "stdout",
     "output_type": "stream",
     "text": [
      "F-mesure: 0.5113636363636364\n"
     ]
    }
   ],
   "source": [
    "print(\"F-mesure:\",2*cm[1,1]/(2*cm[1,1]+cm[1,0]+cm[0,1]))\n",
    "### 2TP/(2TP+FP+FN)\n",
    "### la moyenne harmonique de précision et de rappel et est une meilleure mesure que l'exactitude."
   ]
  },
  {
   "cell_type": "code",
   "execution_count": 1160,
   "id": "45ffa118",
   "metadata": {
    "scrolled": true
   },
   "outputs": [
    {
     "data": {
      "text/plain": [
       "0.44155844155844154"
      ]
     },
     "execution_count": 1160,
     "metadata": {},
     "output_type": "execute_result"
    }
   ],
   "source": [
    "modelLOG.score(xtest, ytest)"
   ]
  },
  {
   "cell_type": "code",
   "execution_count": 1161,
   "id": "08022d61",
   "metadata": {},
   "outputs": [
    {
     "name": "stdout",
     "output_type": "stream",
     "text": [
      "Erreur: 0.558442\n"
     ]
    }
   ],
   "source": [
    "error = 1 - modelLOG.score(xtest, ytest)\n",
    "print('Erreur: %f' % error)"
   ]
  },
  {
   "cell_type": "markdown",
   "id": "05168529",
   "metadata": {},
   "source": [
    "#### 3-2 - la Classification Ridge"
   ]
  },
  {
   "cell_type": "code",
   "execution_count": 1162,
   "id": "bbb341f0",
   "metadata": {},
   "outputs": [],
   "source": [
    "#### à l'aide de ces librairie on réalise le modèle de Ridge\n",
    "from sklearn.linear_model import RidgeClassifier"
   ]
  },
  {
   "cell_type": "code",
   "execution_count": 1163,
   "id": "053ae3c5",
   "metadata": {},
   "outputs": [
    {
     "name": "stdout",
     "output_type": "stream",
     "text": [
      "Erreur: 0.259740\n",
      "E\n",
      "Erreur: 0.272727\n",
      "Erreur: 0.318182\n",
      "Erreur: 0.350649\n"
     ]
    },
    {
     "name": "stderr",
     "output_type": "stream",
     "text": [
      "C:\\Users\\hp\\anaconda3\\envs\\tensorflow_env\\lib\\site-packages\\sklearn\\linear_model\\_base.py:141: FutureWarning: 'normalize' was deprecated in version 1.0 and will be removed in 1.2.\n",
      "If you wish to scale the data, use Pipeline with a StandardScaler in a preprocessing stage. To reproduce the previous behavior:\n",
      "\n",
      "from sklearn.pipeline import make_pipeline\n",
      "\n",
      "model = make_pipeline(StandardScaler(with_mean=False), RidgeClassifier())\n",
      "\n",
      "If you wish to pass a sample_weight parameter, you need to pass it as a fit parameter to each step of the pipeline as follows:\n",
      "\n",
      "kwargs = {s[0] + '__sample_weight': sample_weight for s in model.steps}\n",
      "model.fit(X, y, **kwargs)\n",
      "\n",
      "Set parameter alpha to: original_alpha * n_samples. \n",
      "  warnings.warn(\n",
      "C:\\Users\\hp\\anaconda3\\envs\\tensorflow_env\\lib\\site-packages\\sklearn\\linear_model\\_base.py:141: FutureWarning: 'normalize' was deprecated in version 1.0 and will be removed in 1.2.\n",
      "If you wish to scale the data, use Pipeline with a StandardScaler in a preprocessing stage. To reproduce the previous behavior:\n",
      "\n",
      "from sklearn.pipeline import make_pipeline\n",
      "\n",
      "model = make_pipeline(StandardScaler(with_mean=False), RidgeClassifier())\n",
      "\n",
      "If you wish to pass a sample_weight parameter, you need to pass it as a fit parameter to each step of the pipeline as follows:\n",
      "\n",
      "kwargs = {s[0] + '__sample_weight': sample_weight for s in model.steps}\n",
      "model.fit(X, y, **kwargs)\n",
      "\n",
      "Set parameter alpha to: original_alpha * n_samples. \n",
      "  warnings.warn(\n",
      "C:\\Users\\hp\\anaconda3\\envs\\tensorflow_env\\lib\\site-packages\\sklearn\\linear_model\\_base.py:141: FutureWarning: 'normalize' was deprecated in version 1.0 and will be removed in 1.2.\n",
      "If you wish to scale the data, use Pipeline with a StandardScaler in a preprocessing stage. To reproduce the previous behavior:\n",
      "\n",
      "from sklearn.pipeline import make_pipeline\n",
      "\n",
      "model = make_pipeline(StandardScaler(with_mean=False), RidgeClassifier())\n",
      "\n",
      "If you wish to pass a sample_weight parameter, you need to pass it as a fit parameter to each step of the pipeline as follows:\n",
      "\n",
      "kwargs = {s[0] + '__sample_weight': sample_weight for s in model.steps}\n",
      "model.fit(X, y, **kwargs)\n",
      "\n",
      "Set parameter alpha to: original_alpha * n_samples. \n",
      "  warnings.warn(\n",
      "C:\\Users\\hp\\anaconda3\\envs\\tensorflow_env\\lib\\site-packages\\sklearn\\linear_model\\_base.py:141: FutureWarning: 'normalize' was deprecated in version 1.0 and will be removed in 1.2.\n",
      "If you wish to scale the data, use Pipeline with a StandardScaler in a preprocessing stage. To reproduce the previous behavior:\n",
      "\n",
      "from sklearn.pipeline import make_pipeline\n",
      "\n",
      "model = make_pipeline(StandardScaler(with_mean=False), RidgeClassifier())\n",
      "\n",
      "If you wish to pass a sample_weight parameter, you need to pass it as a fit parameter to each step of the pipeline as follows:\n",
      "\n",
      "kwargs = {s[0] + '__sample_weight': sample_weight for s in model.steps}\n",
      "model.fit(X, y, **kwargs)\n",
      "\n",
      "Set parameter alpha to: original_alpha * n_samples. \n",
      "  warnings.warn(\n"
     ]
    },
    {
     "data": {
      "text/plain": [
       "(0.2597402597402597, 2)"
      ]
     },
     "execution_count": 1163,
     "metadata": {},
     "output_type": "execute_result"
    }
   ],
   "source": [
    "#### dans les paramaitre de Ridge on aun alpha qui réalise l'inversion de la matrice utilisable par le model Ridge\n",
    "#### donc on fait une boucle pour choisir notre alpha\n",
    "model_RIDGE_= RidgeClassifier(alpha=1, class_weight=None, copy_X=True, fit_intercept=True,\n",
    "                max_iter=None, normalize=True, random_state=None, solver='auto',\n",
    "                tol=0.001)\n",
    "model_RIDGE_.fit(xtrain, ytrain)\n",
    "error = 1 - model_RIDGE_.score(xtest,ytest)\n",
    "min=error\n",
    "alp=2\n",
    "print('Erreur: %f' % error)\n",
    "print('E')\n",
    "for i in range(2,5):\n",
    "    model_RIDGE_ = RidgeClassifier(alpha=i, class_weight=None, copy_X=True, fit_intercept=True,\n",
    "                max_iter=None, normalize=True, random_state=None, solver='auto',\n",
    "                tol=0.001)\n",
    "    model_RIDGE_.fit(xtrain, ytrain)\n",
    "    error = 1 - model_RIDGE_.score(xtest,ytest)\n",
    "    print('Erreur: %f' % error)\n",
    "    if(min>error):\n",
    "        min=error\n",
    "        alp=i\n",
    "        \n",
    "min,alp\n",
    "# alpha = Force de régularisation il doit etre un float positif (default = 1)\n",
    "# class_weight = Poids associés aux classes,\n",
    "#### pour ajuster automatiquement les pondérations inversement proportionnelles aux fréquences de classe.\n",
    "# fit_intercept = S'il faut calculer l'ordonnée à l'origine pour ce modèle ou pas.\n",
    "# max_iter = Nombre maximal d'itérations pour le solveur de gradient conjugué.\n",
    "# normalize = normalisation avant la régression.\n",
    "# random_state = mélanger les données (shuffle)\n",
    "# solver = ‘auto’ choisit automatiquement le solveur en fonction du type de données."
   ]
  },
  {
   "cell_type": "code",
   "execution_count": 1164,
   "id": "d1b0f7f7",
   "metadata": {},
   "outputs": [
    {
     "name": "stderr",
     "output_type": "stream",
     "text": [
      "C:\\Users\\hp\\anaconda3\\envs\\tensorflow_env\\lib\\site-packages\\sklearn\\linear_model\\_base.py:141: FutureWarning: 'normalize' was deprecated in version 1.0 and will be removed in 1.2.\n",
      "If you wish to scale the data, use Pipeline with a StandardScaler in a preprocessing stage. To reproduce the previous behavior:\n",
      "\n",
      "from sklearn.pipeline import make_pipeline\n",
      "\n",
      "model = make_pipeline(StandardScaler(with_mean=False), RidgeClassifier())\n",
      "\n",
      "If you wish to pass a sample_weight parameter, you need to pass it as a fit parameter to each step of the pipeline as follows:\n",
      "\n",
      "kwargs = {s[0] + '__sample_weight': sample_weight for s in model.steps}\n",
      "model.fit(X, y, **kwargs)\n",
      "\n",
      "Set parameter alpha to: original_alpha * n_samples. \n",
      "  warnings.warn(\n"
     ]
    },
    {
     "data": {
      "text/plain": [
       "RidgeClassifier(alpha=2, normalize=True)"
      ]
     },
     "execution_count": 1164,
     "metadata": {},
     "output_type": "execute_result"
    }
   ],
   "source": [
    "#### déclaration de notre modèle Ridge\n",
    "model_RIDGE= RidgeClassifier(alpha=alp, class_weight=None, copy_X=True, fit_intercept=True,\n",
    "                max_iter=None, normalize=True, random_state=None, solver='auto',\n",
    "                tol=0.001)\n",
    "#### on entraine notre modèle\n",
    "model_RIDGE.fit(xtrain, ytrain)"
   ]
  },
  {
   "cell_type": "markdown",
   "id": "d03ca95d",
   "metadata": {},
   "source": [
    "#### la matrice de confusion de notre modèle (RIDGE)"
   ]
  },
  {
   "cell_type": "code",
   "execution_count": 1165,
   "id": "dec099bb",
   "metadata": {},
   "outputs": [
    {
     "data": {
      "text/plain": [
       "array([[98,  3],\n",
       "       [39, 14]], dtype=int64)"
      ]
     },
     "execution_count": 1165,
     "metadata": {},
     "output_type": "execute_result"
    }
   ],
   "source": [
    "y_predridge = model_RIDGE.predict(xtest)\n",
    "#on fait des prédictions\n",
    "cm = confusion_matrix(ytest, y_predridge)\n",
    "cm"
   ]
  },
  {
   "cell_type": "code",
   "execution_count": 1166,
   "id": "4167dafb",
   "metadata": {},
   "outputs": [
    {
     "data": {
      "text/plain": [
       "Text(42.0, 0.5, 'Truth')"
      ]
     },
     "execution_count": 1166,
     "metadata": {},
     "output_type": "execute_result"
    },
    {
     "data": {
      "image/png": "[encoded data removed]",
      "text/plain": [
       "<Figure size 504x360 with 2 Axes>"
      ]
     },
     "metadata": {
      "needs_background": "light"
     },
     "output_type": "display_data"
    }
   ],
   "source": [
    "### on plot notre matrice :\n",
    "plt.figure(figsize=(7,5))\n",
    "sns.heatmap(cm, annot=True)\n",
    "plt.title('Matrice de confusion RIDGE')\n",
    "plt.xlabel('Predicted')\n",
    "plt.ylabel('Truth')"
   ]
  },
  {
   "cell_type": "code",
   "execution_count": 1167,
   "id": "34ab2d83",
   "metadata": {},
   "outputs": [
    {
     "name": "stdout",
     "output_type": "stream",
     "text": [
      "TP (True Positives) (1,1) : 14 des Femmes avec diabète et Notre prédiction de modèle a révélé qu'elles ont de diabète.\n",
      "TN (True Negatives) (0,0) : 98 des Femmes sans diabète et Notre prédiction de modèle a révélé qu'elles n'ont pas de diabète.\n",
      "FP (False Positives) (0,1) : 3 des Femmes sans diabète et Notre prédiction de modèle a révélé qu'elles ont de diabète.\n",
      "FN (False Negatives) (1,0): 39 des Femmes avec diabète et Notre prédiction de modèle a révélé qu'elles n'ont pas de diabète.\n"
     ]
    }
   ],
   "source": [
    "print( \"TP (True Positives) (1,1) : %d des Femmes avec diabète et Notre prédiction de modèle a révélé qu'elles ont de diabète.\"  % (cm[1,1]))\n",
    "print( \"TN (True Negatives) (0,0) : %d des Femmes sans diabète et Notre prédiction de modèle a révélé qu'elles n'ont pas de diabète.\"  % (cm[0,0]))\n",
    "print( \"FP (False Positives) (0,1) : %d des Femmes sans diabète et Notre prédiction de modèle a révélé qu'elles ont de diabète.\"  % (cm[0,1]))\n",
    "print( \"FN (False Negatives) (1,0): %d des Femmes avec diabète et Notre prédiction de modèle a révélé qu'elles n'ont pas de diabète.\"  % (cm[1,0]))"
   ]
  },
  {
   "cell_type": "code",
   "execution_count": 1168,
   "id": "d56e688c",
   "metadata": {},
   "outputs": [
    {
     "name": "stdout",
     "output_type": "stream",
     "text": [
      "Précision: 0.8235294117647058\n"
     ]
    }
   ],
   "source": [
    "print(\"Précision:\",metrics.precision_score(ytest, y_predridge))\n",
    "### TP/(TP+FN)"
   ]
  },
  {
   "cell_type": "code",
   "execution_count": 1169,
   "id": "dd8eacce",
   "metadata": {},
   "outputs": [
    {
     "name": "stdout",
     "output_type": "stream",
     "text": [
      "Accuracy: 0.7272727272727273\n"
     ]
    }
   ],
   "source": [
    "print(\"Accuracy:\",metrics.accuracy_score(ytest, y_predridge))"
   ]
  },
  {
   "cell_type": "code",
   "execution_count": 1170,
   "id": "f294e26b",
   "metadata": {},
   "outputs": [
    {
     "name": "stdout",
     "output_type": "stream",
     "text": [
      "Rappel: 0.2641509433962264\n"
     ]
    }
   ],
   "source": [
    "print(\"Rappel:\",metrics.recall_score(ytest, y_predridge))   \n",
    "### TP/(TP+FN)"
   ]
  },
  {
   "cell_type": "code",
   "execution_count": 1171,
   "id": "9a778203",
   "metadata": {},
   "outputs": [
    {
     "name": "stdout",
     "output_type": "stream",
     "text": [
      "F-mesure: 0.4\n"
     ]
    }
   ],
   "source": [
    "print(\"F-mesure:\",2*cm[1,1]/(2*cm[1,1]+cm[1,0]+cm[0,1]))\n",
    "### 2TP/(2TP+FP+FN)"
   ]
  },
  {
   "cell_type": "code",
   "execution_count": 1172,
   "id": "f900f8aa",
   "metadata": {},
   "outputs": [
    {
     "data": {
      "text/plain": [
       "0.7272727272727273"
      ]
     },
     "execution_count": 1172,
     "metadata": {},
     "output_type": "execute_result"
    }
   ],
   "source": [
    "model_RIDGE.score(xtest, ytest)"
   ]
  },
  {
   "cell_type": "code",
   "execution_count": 1173,
   "id": "68c3fb64",
   "metadata": {},
   "outputs": [
    {
     "name": "stdout",
     "output_type": "stream",
     "text": [
      "Erreur: 0.272727\n"
     ]
    }
   ],
   "source": [
    "error = 1 - model_RIDGE.score(xtest, ytest)\n",
    "print('Erreur: %f' % error)"
   ]
  },
  {
   "cell_type": "markdown",
   "id": "78ad93f0",
   "metadata": {},
   "source": [
    "#### 3-3 - Le Modèle K-NN"
   ]
  },
  {
   "cell_type": "code",
   "execution_count": 1174,
   "id": "5ab9c9f0",
   "metadata": {},
   "outputs": [],
   "source": [
    "### pour réaliser le modèle KNN\n",
    "from sklearn import neighbors"
   ]
  },
  {
   "cell_type": "code",
   "execution_count": 1175,
   "id": "254bf9b2",
   "metadata": {},
   "outputs": [
    {
     "name": "stdout",
     "output_type": "stream",
     "text": [
      "Erreur: 0.324675\n",
      "E\n",
      "Erreur: 0.311688\n",
      "Erreur: 0.292208\n",
      "Erreur: 0.279221\n",
      "Erreur: 0.259740\n",
      "Erreur: 0.253247\n",
      "Erreur: 0.272727\n",
      "Erreur: 0.285714\n",
      "Erreur: 0.266234\n",
      "Erreur: 0.266234\n",
      "Erreur: 0.253247\n",
      "Erreur: 0.272727\n",
      "Erreur: 0.246753\n"
     ]
    },
    {
     "data": {
      "text/plain": [
       "(0.24675324675324672, 14)"
      ]
     },
     "execution_count": 1175,
     "metadata": {},
     "output_type": "execute_result"
    }
   ],
   "source": [
    "### boucle pour trouver le meilleur K\n",
    "knn_ = neighbors.KNeighborsClassifier(n_neighbors=2)\n",
    "knn_.fit(xtrain, ytrain)\n",
    "error = 1 - knn_.score(xtest, ytest)\n",
    "min=error\n",
    "k=2\n",
    "print('Erreur: %f' % error)\n",
    "print('E')\n",
    "for i in range(3,15):\n",
    "    knn_ = neighbors.KNeighborsClassifier(n_neighbors=i)\n",
    "    knn_.fit(xtrain, ytrain)\n",
    "    error = 1 - knn_.score(xtest, ytest)\n",
    "    print('Erreur: %f' % error)\n",
    "    if(min>error):\n",
    "        min=error\n",
    "        k=i\n",
    "        \n",
    "min,k\n",
    "# n_neighbors = Nombre de voisins à utiliser par défaut pour les requêtes k voisins."
   ]
  },
  {
   "cell_type": "code",
   "execution_count": 1176,
   "id": "598c3e2e",
   "metadata": {},
   "outputs": [
    {
     "data": {
      "text/plain": [
       "KNeighborsClassifier(n_neighbors=14)"
      ]
     },
     "execution_count": 1176,
     "metadata": {},
     "output_type": "execute_result"
    }
   ],
   "source": [
    "knn = neighbors.KNeighborsClassifier(n_neighbors=k)\n",
    "knn.fit(X, y)"
   ]
  },
  {
   "cell_type": "markdown",
   "id": "fc194159",
   "metadata": {},
   "source": [
    "#### La Matrice de Confusion (KNN)"
   ]
  },
  {
   "cell_type": "code",
   "execution_count": 1177,
   "id": "c99c81b6",
   "metadata": {},
   "outputs": [
    {
     "name": "stderr",
     "output_type": "stream",
     "text": [
      "C:\\Users\\hp\\anaconda3\\envs\\tensorflow_env\\lib\\site-packages\\sklearn\\base.py:445: UserWarning: X does not have valid feature names, but KNeighborsClassifier was fitted with feature names\n",
      "  warnings.warn(\n"
     ]
    },
    {
     "data": {
      "text/plain": [
       "array([[90, 11],\n",
       "       [26, 27]], dtype=int64)"
      ]
     },
     "execution_count": 1177,
     "metadata": {},
     "output_type": "execute_result"
    }
   ],
   "source": [
    "y_predknn = knn.predict(xtest)\n",
    "#on fait des prédictions\n",
    "cm = confusion_matrix(ytest, y_predknn)\n",
    "cm"
   ]
  },
  {
   "cell_type": "code",
   "execution_count": 1178,
   "id": "d01c1d84",
   "metadata": {},
   "outputs": [
    {
     "data": {
      "text/plain": [
       "Text(42.0, 0.5, 'Truth')"
      ]
     },
     "execution_count": 1178,
     "metadata": {},
     "output_type": "execute_result"
    },
    {
     "data": {
      "image/png": "[encoded data removed]",
      "text/plain": [
       "<Figure size 504x360 with 2 Axes>"
      ]
     },
     "metadata": {
      "needs_background": "light"
     },
     "output_type": "display_data"
    }
   ],
   "source": [
    "### on plot notre matrice :\n",
    "plt.figure(figsize=(7,5))\n",
    "sns.heatmap(cm, annot=True)\n",
    "plt.title('Matrice de confusion KNN')\n",
    "plt.xlabel('Predicted')\n",
    "plt.ylabel('Truth')"
   ]
  },
  {
   "cell_type": "code",
   "execution_count": 1179,
   "id": "052a439e",
   "metadata": {},
   "outputs": [
    {
     "name": "stdout",
     "output_type": "stream",
     "text": [
      "TP (True Positives) (1,1) : 27 des Femmes avec diabète et Notre prédiction de modèle a révélé qu'elles ont de diabète.\n",
      "TN (True Negatives) (0,0) : 90 des Femmes sans diabète et Notre prédiction de modèle a révélé qu'elles n'ont pas de diabète.\n",
      "FP (False Positives) (0,1) : 11 des Femmes sans diabète et Notre prédiction de modèle a révélé qu'elles ont de diabète.\n",
      "FN (False Negatives) (1,0): 26 des Femmes avec diabète et Notre prédiction de modèle a révélé qu'elles n'ont pas de diabète.\n"
     ]
    }
   ],
   "source": [
    "print( \"TP (True Positives) (1,1) : %d des Femmes avec diabète et Notre prédiction de modèle a révélé qu'elles ont de diabète.\"  % (cm[1,1]))\n",
    "print( \"TN (True Negatives) (0,0) : %d des Femmes sans diabète et Notre prédiction de modèle a révélé qu'elles n'ont pas de diabète.\"  % (cm[0,0]))\n",
    "print( \"FP (False Positives) (0,1) : %d des Femmes sans diabète et Notre prédiction de modèle a révélé qu'elles ont de diabète.\"  % (cm[0,1]))\n",
    "print( \"FN (False Negatives) (1,0): %d des Femmes avec diabète et Notre prédiction de modèle a révélé qu'elles n'ont pas de diabète.\"  % (cm[1,0]))"
   ]
  },
  {
   "cell_type": "code",
   "execution_count": 1180,
   "id": "8e0c69c2",
   "metadata": {},
   "outputs": [
    {
     "name": "stdout",
     "output_type": "stream",
     "text": [
      "Précision: 0.7105263157894737\n"
     ]
    }
   ],
   "source": [
    "print(\"Précision:\",metrics.precision_score(ytest, y_predknn))\n",
    "### TP/(TP+FN)"
   ]
  },
  {
   "cell_type": "code",
   "execution_count": 1181,
   "id": "3aacd077",
   "metadata": {},
   "outputs": [
    {
     "name": "stdout",
     "output_type": "stream",
     "text": [
      "Accuracy: 0.7597402597402597\n"
     ]
    }
   ],
   "source": [
    "print(\"Accuracy:\",metrics.accuracy_score(ytest, y_predknn))"
   ]
  },
  {
   "cell_type": "code",
   "execution_count": 1182,
   "id": "0535200f",
   "metadata": {},
   "outputs": [
    {
     "name": "stdout",
     "output_type": "stream",
     "text": [
      "Rappel: 0.5094339622641509\n"
     ]
    }
   ],
   "source": [
    "print(\"Rappel:\",metrics.recall_score(ytest, y_predknn))   \n",
    "### TP/(TP+FN)"
   ]
  },
  {
   "cell_type": "code",
   "execution_count": 1183,
   "id": "19449903",
   "metadata": {},
   "outputs": [
    {
     "name": "stdout",
     "output_type": "stream",
     "text": [
      "F-mesure: 0.5934065934065934\n"
     ]
    }
   ],
   "source": [
    "print(\"F-mesure:\",2*cm[1,1]/(2*cm[1,1]+cm[1,0]+cm[0,1]))\n",
    "### 2TP/(2TP+FP+FN)"
   ]
  },
  {
   "cell_type": "code",
   "execution_count": 1184,
   "id": "65e50eb0",
   "metadata": {},
   "outputs": [
    {
     "name": "stderr",
     "output_type": "stream",
     "text": [
      "C:\\Users\\hp\\anaconda3\\envs\\tensorflow_env\\lib\\site-packages\\sklearn\\base.py:445: UserWarning: X does not have valid feature names, but KNeighborsClassifier was fitted with feature names\n",
      "  warnings.warn(\n"
     ]
    },
    {
     "data": {
      "text/plain": [
       "0.7597402597402597"
      ]
     },
     "execution_count": 1184,
     "metadata": {},
     "output_type": "execute_result"
    }
   ],
   "source": [
    "knn.score(xtest, ytest)"
   ]
  },
  {
   "cell_type": "code",
   "execution_count": 1185,
   "id": "b0e02943",
   "metadata": {},
   "outputs": [
    {
     "name": "stderr",
     "output_type": "stream",
     "text": [
      "C:\\Users\\hp\\anaconda3\\envs\\tensorflow_env\\lib\\site-packages\\sklearn\\base.py:445: UserWarning: X does not have valid feature names, but KNeighborsClassifier was fitted with feature names\n",
      "  warnings.warn(\n"
     ]
    },
    {
     "name": "stdout",
     "output_type": "stream",
     "text": [
      "Erreur: 0.240260\n"
     ]
    }
   ],
   "source": [
    "error = 1 - knn.score(xtest, ytest)\n",
    "print('Erreur: %f' % error)"
   ]
  },
  {
   "cell_type": "markdown",
   "id": "f7db7a39",
   "metadata": {},
   "source": [
    "### 3-4 - Le Modèle SVM :"
   ]
  },
  {
   "cell_type": "code",
   "execution_count": 1186,
   "id": "eb3068b6",
   "metadata": {},
   "outputs": [],
   "source": [
    "### pour réaliser le modèle SVM\n",
    "from sklearn import svm"
   ]
  },
  {
   "cell_type": "code",
   "execution_count": 1187,
   "id": "9e3dba91",
   "metadata": {},
   "outputs": [],
   "source": [
    "### la création du modèle , avec un linear kernel\n",
    "classifier = svm.SVC(kernel='linear', gamma=0.01)"
   ]
  },
  {
   "cell_type": "code",
   "execution_count": 1188,
   "id": "3686f69d",
   "metadata": {},
   "outputs": [
    {
     "data": {
      "text/plain": [
       "SVC(gamma=0.01, kernel='linear')"
      ]
     },
     "execution_count": 1188,
     "metadata": {},
     "output_type": "execute_result"
    }
   ],
   "source": [
    "### entrainement de modèle\n",
    "classifier.fit(xtrain,ytrain)"
   ]
  },
  {
   "cell_type": "markdown",
   "id": "07c08297",
   "metadata": {},
   "source": [
    "#### La Matrice de confusion (SVM)"
   ]
  },
  {
   "cell_type": "code",
   "execution_count": 1189,
   "id": "c043de85",
   "metadata": {},
   "outputs": [
    {
     "data": {
      "text/plain": [
       "array([[88, 13],\n",
       "       [21, 32]], dtype=int64)"
      ]
     },
     "execution_count": 1189,
     "metadata": {},
     "output_type": "execute_result"
    }
   ],
   "source": [
    "y_predSVM = classifier.predict(xtest)\n",
    "#on fait des prédictions\n",
    "cm = confusion_matrix(ytest, y_predSVM)\n",
    "cm"
   ]
  },
  {
   "cell_type": "code",
   "execution_count": 1190,
   "id": "8d29da93",
   "metadata": {},
   "outputs": [
    {
     "data": {
      "text/plain": [
       "Text(42.0, 0.5, 'Truth')"
      ]
     },
     "execution_count": 1190,
     "metadata": {},
     "output_type": "execute_result"
    },
    {
     "data": {
      "image/png": "[encoded data removed]",
      "text/plain": [
       "<Figure size 504x360 with 2 Axes>"
      ]
     },
     "metadata": {
      "needs_background": "light"
     },
     "output_type": "display_data"
    }
   ],
   "source": [
    "### on plot notre matrice :\n",
    "plt.figure(figsize=(7,5))\n",
    "sns.heatmap(cm, annot=True)\n",
    "plt.title('Matrice de confusion SVM')\n",
    "plt.xlabel('Predicted')\n",
    "plt.ylabel('Truth')"
   ]
  },
  {
   "cell_type": "code",
   "execution_count": 1191,
   "id": "6608b0de",
   "metadata": {},
   "outputs": [
    {
     "name": "stdout",
     "output_type": "stream",
     "text": [
      "TP (True Positives) (1,1) : 32 des Femmes avec diabète et Notre prédiction de modèle a révélé qu'elles ont de diabète.\n",
      "TN (True Negatives) (0,0) : 88 des Femmes sans diabète et Notre prédiction de modèle a révélé qu'elles n'ont pas de diabète.\n",
      "FP (False Positives) (0,1) : 13 des Femmes sans diabète et Notre prédiction de modèle a révélé qu'elles ont de diabète.\n",
      "FN (False Negatives) (1,0): 21 des Femmes avec diabète et Notre prédiction de modèle a révélé qu'elles n'ont pas de diabète.\n"
     ]
    }
   ],
   "source": [
    "print( \"TP (True Positives) (1,1) : %d des Femmes avec diabète et Notre prédiction de modèle a révélé qu'elles ont de diabète.\"  % (cm[1,1]))\n",
    "print( \"TN (True Negatives) (0,0) : %d des Femmes sans diabète et Notre prédiction de modèle a révélé qu'elles n'ont pas de diabète.\"  % (cm[0,0]))\n",
    "print( \"FP (False Positives) (0,1) : %d des Femmes sans diabète et Notre prédiction de modèle a révélé qu'elles ont de diabète.\"  % (cm[0,1]))\n",
    "print( \"FN (False Negatives) (1,0): %d des Femmes avec diabète et Notre prédiction de modèle a révélé qu'elles n'ont pas de diabète.\"  % (cm[1,0]))"
   ]
  },
  {
   "cell_type": "code",
   "execution_count": 1192,
   "id": "be72dbbf",
   "metadata": {},
   "outputs": [
    {
     "name": "stdout",
     "output_type": "stream",
     "text": [
      "Précision: 0.7111111111111111\n"
     ]
    }
   ],
   "source": [
    "print(\"Précision:\",metrics.precision_score(ytest, y_predSVM))\n",
    "### TP/(TP+FN)"
   ]
  },
  {
   "cell_type": "code",
   "execution_count": 1193,
   "id": "a599ec18",
   "metadata": {},
   "outputs": [
    {
     "name": "stdout",
     "output_type": "stream",
     "text": [
      "Accuracy: 0.7792207792207793\n"
     ]
    }
   ],
   "source": [
    "print(\"Accuracy:\",metrics.accuracy_score(ytest, y_predSVM))"
   ]
  },
  {
   "cell_type": "code",
   "execution_count": 1194,
   "id": "7e85661d",
   "metadata": {},
   "outputs": [
    {
     "name": "stdout",
     "output_type": "stream",
     "text": [
      "Rappel: 0.6037735849056604\n"
     ]
    }
   ],
   "source": [
    "print(\"Rappel:\",metrics.recall_score(ytest, y_predSVM))   \n",
    "### TP/(TP+FN)"
   ]
  },
  {
   "cell_type": "code",
   "execution_count": 1195,
   "id": "87e441a9",
   "metadata": {},
   "outputs": [
    {
     "name": "stdout",
     "output_type": "stream",
     "text": [
      "F-mesure: 0.6530612244897959\n"
     ]
    }
   ],
   "source": [
    "print(\"F-mesure:\",2*cm[1,1]/(2*cm[1,1]+cm[1,0]+cm[0,1]))\n",
    "### 2TP/(2TP+FP+FN)"
   ]
  },
  {
   "cell_type": "code",
   "execution_count": 1196,
   "id": "d9621454",
   "metadata": {},
   "outputs": [
    {
     "name": "stderr",
     "output_type": "stream",
     "text": [
      "C:\\Users\\hp\\anaconda3\\envs\\tensorflow_env\\lib\\site-packages\\sklearn\\base.py:445: UserWarning: X does not have valid feature names, but KNeighborsClassifier was fitted with feature names\n",
      "  warnings.warn(\n"
     ]
    },
    {
     "data": {
      "text/plain": [
       "0.7597402597402597"
      ]
     },
     "execution_count": 1196,
     "metadata": {},
     "output_type": "execute_result"
    }
   ],
   "source": [
    "classifier.score(xtest, ytest)"
   ]
  },
  {
   "cell_type": "code",
   "execution_count": 1197,
   "id": "9dbe3dbc",
   "metadata": {},
   "outputs": [
    {
     "name": "stdout",
     "output_type": "stream",
     "text": [
      "Erreur: 0.240260\n"
     ]
    },
    {
     "name": "stderr",
     "output_type": "stream",
     "text": [
      "C:\\Users\\hp\\anaconda3\\envs\\tensorflow_env\\lib\\site-packages\\sklearn\\base.py:445: UserWarning: X does not have valid feature names, but KNeighborsClassifier was fitted with feature names\n",
      "  warnings.warn(\n"
     ]
    }
   ],
   "source": [
    "error = 1 - classifier.score(xtest, ytest)\n",
    "print('Erreur: %f' % error)"
   ]
  },
  {
   "cell_type": "markdown",
   "id": "340f446d",
   "metadata": {},
   "source": [
    "### 3-5 -Arbre de décision"
   ]
  },
  {
   "cell_type": "code",
   "execution_count": 1198,
   "id": "9f9a6590",
   "metadata": {},
   "outputs": [],
   "source": [
    "#Importation des modules nécessaires\n",
    "from sklearn.tree import DecisionTreeClassifier, plot_tree"
   ]
  },
  {
   "cell_type": "code",
   "execution_count": 1199,
   "id": "1e476e60",
   "metadata": {},
   "outputs": [
    {
     "name": "stdout",
     "output_type": "stream",
     "text": [
      "Erreur: 0.214286\n",
      "E\n",
      "Erreur: 0.272727\n",
      "Erreur: 0.285714\n",
      "Erreur: 0.337662\n",
      "Erreur: 0.279221\n",
      "Erreur: 0.305195\n",
      "Erreur: 0.279221\n",
      "Erreur: 0.298701\n",
      "Erreur: 0.357143\n",
      "Erreur: 0.344156\n",
      "Erreur: 0.331169\n",
      "Erreur: 0.344156\n",
      "Erreur: 0.324675\n",
      "Erreur: 0.344156\n",
      "Erreur: 0.331169\n",
      "Erreur: 0.344156\n",
      "Erreur: 0.370130\n",
      "Erreur: 0.337662\n",
      "Erreur: 0.357143\n"
     ]
    },
    {
     "name": "stderr",
     "output_type": "stream",
     "text": [
      "C:\\Users\\hp\\anaconda3\\envs\\tensorflow_env\\lib\\site-packages\\sklearn\\base.py:445: UserWarning: X does not have valid feature names, but DecisionTreeClassifier was fitted with feature names\n",
      "  warnings.warn(\n"
     ]
    },
    {
     "data": {
      "text/plain": [
       "(0.2142857142857143, 2)"
      ]
     },
     "execution_count": 1199,
     "metadata": {},
     "output_type": "execute_result"
    }
   ],
   "source": [
    "clf_ = DecisionTreeClassifier(max_depth=1)\n",
    "clf_.fit(X,y)\n",
    "error = 1 - clf_.score(xtest, ytest)\n",
    "min=error\n",
    "k=2\n",
    "print('Erreur: %f' % error)\n",
    "print('E')\n",
    "for i in range(2,20):\n",
    "    clf_ = DecisionTreeClassifier(max_depth=i)\n",
    "    clf_.fit(xtrain, ytrain)\n",
    "    error = 1 - clf_.score(xtest, ytest)\n",
    "    print('Erreur: %f' % error)\n",
    "    if(min>error):\n",
    "        min=error\n",
    "        k=i\n",
    "        \n",
    "min,k\n",
    "# max_depth = La profondeur maximale de l'arbre."
   ]
  },
  {
   "cell_type": "code",
   "execution_count": 1200,
   "id": "489ae53f",
   "metadata": {},
   "outputs": [
    {
     "data": {
      "text/plain": [
       "DecisionTreeClassifier(max_depth=2)"
      ]
     },
     "execution_count": 1200,
     "metadata": {},
     "output_type": "execute_result"
    }
   ],
   "source": [
    "#Déclaration de l'arbre de décision\n",
    "clf = DecisionTreeClassifier(max_depth=k)\n",
    "# max_depth = La profondeur maximale de l'arbre.\n",
    "#Entrainement de l'abre de décision \n",
    "clf.fit(xtrain,ytrain)"
   ]
  },
  {
   "cell_type": "code",
   "execution_count": 1201,
   "id": "f3d58140",
   "metadata": {},
   "outputs": [],
   "source": [
    "from sklearn import tree"
   ]
  },
  {
   "cell_type": "code",
   "execution_count": 1202,
   "id": "9a112834",
   "metadata": {
    "scrolled": false
   },
   "outputs": [
    {
     "data": {
      "image/png": "[encoded data removed]",
      "text/plain": [
       "<Figure size 1800x1440 with 1 Axes>"
      ]
     },
     "metadata": {
      "needs_background": "light"
     },
     "output_type": "display_data"
    }
   ],
   "source": [
    "#Affichage de l'abre de décision obtenu après entraînement\n",
    "fig = plt.figure(figsize=(25,20))\n",
    "_ = tree.plot_tree(clf, feature_names=('Pregnancies','Glucose','BloodPressure','SkinThickness','Insulin',\n",
    "                   'BMI','DiabetesPedigreeFunction','Age')\n",
    "                   \n",
    "                   ,  class_names='Outcome',filled=True)"
   ]
  },
  {
   "cell_type": "markdown",
   "id": "3f6e996e",
   "metadata": {},
   "source": [
    "#### La Matrice de décision (Arbre de décision)"
   ]
  },
  {
   "cell_type": "code",
   "execution_count": 1203,
   "id": "e1464485",
   "metadata": {},
   "outputs": [
    {
     "name": "stderr",
     "output_type": "stream",
     "text": [
      "C:\\Users\\hp\\anaconda3\\envs\\tensorflow_env\\lib\\site-packages\\sklearn\\base.py:445: UserWarning: X does not have valid feature names, but DecisionTreeClassifier was fitted with feature names\n",
      "  warnings.warn(\n"
     ]
    },
    {
     "data": {
      "text/plain": [
       "array([[87, 14],\n",
       "       [20, 33]], dtype=int64)"
      ]
     },
     "execution_count": 1203,
     "metadata": {},
     "output_type": "execute_result"
    }
   ],
   "source": [
    "y_predARB = clf.predict(xtest)\n",
    "#on fait des prédictions\n",
    "cm = confusion_matrix(ytest, y_predARB)\n",
    "cm"
   ]
  },
  {
   "cell_type": "code",
   "execution_count": 1204,
   "id": "f16effef",
   "metadata": {},
   "outputs": [
    {
     "data": {
      "text/plain": [
       "Text(42.0, 0.5, 'Truth')"
      ]
     },
     "execution_count": 1204,
     "metadata": {},
     "output_type": "execute_result"
    },
    {
     "data": {
      "image/png": "[encoded data removed]",
      "text/plain": [
       "<Figure size 504x360 with 2 Axes>"
      ]
     },
     "metadata": {
      "needs_background": "light"
     },
     "output_type": "display_data"
    }
   ],
   "source": [
    "### on plot notre matrice :\n",
    "plt.figure(figsize=(7,5))\n",
    "sns.heatmap(cm, annot=True)\n",
    "plt.title('Matrice de confusion ARB')\n",
    "plt.xlabel('Predicted')\n",
    "plt.ylabel('Truth')"
   ]
  },
  {
   "cell_type": "code",
   "execution_count": 1205,
   "id": "9564f361",
   "metadata": {},
   "outputs": [
    {
     "name": "stdout",
     "output_type": "stream",
     "text": [
      "TP (True Positives) (1,1) : 33 des Femmes avec diabète et Notre prédiction de modèle a révélé qu'elles ont de diabète.\n",
      "TN (True Negatives) (0,0) : 87 des Femmes sans diabète et Notre prédiction de modèle a révélé qu'elles n'ont pas de diabète.\n",
      "FP (False Positives) (0,1) : 14 des Femmes sans diabète et Notre prédiction de modèle a révélé qu'elles ont de diabète.\n",
      "FN (False Negatives) (1,0): 20 des Femmes avec diabète et Notre prédiction de modèle a révélé qu'elles n'ont pas de diabète.\n"
     ]
    }
   ],
   "source": [
    "print( \"TP (True Positives) (1,1) : %d des Femmes avec diabète et Notre prédiction de modèle a révélé qu'elles ont de diabète.\"  % (cm[1,1]))\n",
    "print( \"TN (True Negatives) (0,0) : %d des Femmes sans diabète et Notre prédiction de modèle a révélé qu'elles n'ont pas de diabète.\"  % (cm[0,0]))\n",
    "print( \"FP (False Positives) (0,1) : %d des Femmes sans diabète et Notre prédiction de modèle a révélé qu'elles ont de diabète.\"  % (cm[0,1]))\n",
    "print( \"FN (False Negatives) (1,0): %d des Femmes avec diabète et Notre prédiction de modèle a révélé qu'elles n'ont pas de diabète.\"  % (cm[1,0]))"
   ]
  },
  {
   "cell_type": "code",
   "execution_count": 1206,
   "id": "de1a2e4c",
   "metadata": {},
   "outputs": [
    {
     "name": "stdout",
     "output_type": "stream",
     "text": [
      "Précision: 0.7021276595744681\n"
     ]
    }
   ],
   "source": [
    "print(\"Précision:\",metrics.precision_score(ytest, y_predARB))\n",
    "### TP/(TP+FN)"
   ]
  },
  {
   "cell_type": "code",
   "execution_count": 1207,
   "id": "89bc1471",
   "metadata": {},
   "outputs": [
    {
     "name": "stdout",
     "output_type": "stream",
     "text": [
      "Accuracy: 0.7792207792207793\n"
     ]
    }
   ],
   "source": [
    "print(\"Accuracy:\",metrics.accuracy_score(ytest, y_predARB))"
   ]
  },
  {
   "cell_type": "code",
   "execution_count": 1208,
   "id": "2f79a8de",
   "metadata": {},
   "outputs": [
    {
     "name": "stdout",
     "output_type": "stream",
     "text": [
      "Rappel: 0.6226415094339622\n"
     ]
    }
   ],
   "source": [
    "print(\"Rappel:\",metrics.recall_score(ytest, y_predARB))   \n",
    "### TP/(TP+FN)"
   ]
  },
  {
   "cell_type": "code",
   "execution_count": 1209,
   "id": "e462edd1",
   "metadata": {},
   "outputs": [
    {
     "name": "stdout",
     "output_type": "stream",
     "text": [
      "F-mesure: 0.66\n"
     ]
    }
   ],
   "source": [
    "print(\"F-mesure:\",2*cm[1,1]/(2*cm[1,1]+cm[1,0]+cm[0,1]))\n",
    "### 2TP/(2TP+FP+FN)"
   ]
  },
  {
   "cell_type": "code",
   "execution_count": 1210,
   "id": "caf1a860",
   "metadata": {},
   "outputs": [
    {
     "name": "stderr",
     "output_type": "stream",
     "text": [
      "C:\\Users\\hp\\anaconda3\\envs\\tensorflow_env\\lib\\site-packages\\sklearn\\base.py:445: UserWarning: X does not have valid feature names, but KNeighborsClassifier was fitted with feature names\n",
      "  warnings.warn(\n"
     ]
    },
    {
     "data": {
      "text/plain": [
       "0.7597402597402597"
      ]
     },
     "execution_count": 1210,
     "metadata": {},
     "output_type": "execute_result"
    }
   ],
   "source": [
    "clf.score(xtest, ytest)"
   ]
  },
  {
   "cell_type": "code",
   "execution_count": 1211,
   "id": "ff681415",
   "metadata": {},
   "outputs": [
    {
     "name": "stdout",
     "output_type": "stream",
     "text": [
      "Erreur: 0.240260\n"
     ]
    },
    {
     "name": "stderr",
     "output_type": "stream",
     "text": [
      "C:\\Users\\hp\\anaconda3\\envs\\tensorflow_env\\lib\\site-packages\\sklearn\\base.py:445: UserWarning: X does not have valid feature names, but KNeighborsClassifier was fitted with feature names\n",
      "  warnings.warn(\n"
     ]
    }
   ],
   "source": [
    "error = 1 - clf.score(xtest, ytest)\n",
    "print('Erreur: %f' % error)"
   ]
  },
  {
   "cell_type": "markdown",
   "id": "7b6b190a",
   "metadata": {},
   "source": [
    "### 4- La Validation croisée"
   ]
  },
  {
   "cell_type": "markdown",
   "id": "55aa5f64",
   "metadata": {},
   "source": [
    "#### Pour tester notre modèles"
   ]
  },
  {
   "cell_type": "code",
   "execution_count": 1212,
   "id": "b42659cb",
   "metadata": {},
   "outputs": [],
   "source": [
    "### on fait la validation croisée pour faire un entrainement avec toutes les données\n",
    "### a l'aide de cross validation\n",
    "from sklearn.model_selection import cross_val_score"
   ]
  },
  {
   "cell_type": "markdown",
   "id": "5b1901e5",
   "metadata": {},
   "source": [
    "#### 4-1 Le Modèles Logistique:"
   ]
  },
  {
   "cell_type": "code",
   "execution_count": 1213,
   "id": "7810f634",
   "metadata": {},
   "outputs": [
    {
     "data": {
      "text/plain": [
       "array([0.67479675, 0.59349593, 0.66666667, 0.67479675, 0.62295082])"
      ]
     },
     "execution_count": 1213,
     "metadata": {},
     "output_type": "execute_result"
    }
   ],
   "source": [
    "cross_val_LOG=cross_val_score(modelLOG,xtrain,ytrain,cv=5, scoring='accuracy')\n",
    "cross_val_LOG"
   ]
  },
  {
   "cell_type": "code",
   "execution_count": 1214,
   "id": "10662a91",
   "metadata": {},
   "outputs": [
    {
     "data": {
      "text/plain": [
       "0.6465413834466214"
      ]
     },
     "execution_count": 1214,
     "metadata": {},
     "output_type": "execute_result"
    }
   ],
   "source": [
    "cross_val_LOG.mean()"
   ]
  },
  {
   "cell_type": "markdown",
   "id": "8e6e3934",
   "metadata": {},
   "source": [
    "#### 4-2 Le modèles Ridge:"
   ]
  },
  {
   "cell_type": "code",
   "execution_count": 1215,
   "id": "bf3bc760",
   "metadata": {},
   "outputs": [
    {
     "name": "stderr",
     "output_type": "stream",
     "text": [
      "C:\\Users\\hp\\anaconda3\\envs\\tensorflow_env\\lib\\site-packages\\sklearn\\linear_model\\_base.py:141: FutureWarning: 'normalize' was deprecated in version 1.0 and will be removed in 1.2.\n",
      "If you wish to scale the data, use Pipeline with a StandardScaler in a preprocessing stage. To reproduce the previous behavior:\n",
      "\n",
      "from sklearn.pipeline import make_pipeline\n",
      "\n",
      "model = make_pipeline(StandardScaler(with_mean=False), RidgeClassifier())\n",
      "\n",
      "If you wish to pass a sample_weight parameter, you need to pass it as a fit parameter to each step of the pipeline as follows:\n",
      "\n",
      "kwargs = {s[0] + '__sample_weight': sample_weight for s in model.steps}\n",
      "model.fit(X, y, **kwargs)\n",
      "\n",
      "Set parameter alpha to: original_alpha * n_samples. \n",
      "  warnings.warn(\n",
      "C:\\Users\\hp\\anaconda3\\envs\\tensorflow_env\\lib\\site-packages\\sklearn\\linear_model\\_base.py:141: FutureWarning: 'normalize' was deprecated in version 1.0 and will be removed in 1.2.\n",
      "If you wish to scale the data, use Pipeline with a StandardScaler in a preprocessing stage. To reproduce the previous behavior:\n",
      "\n",
      "from sklearn.pipeline import make_pipeline\n",
      "\n",
      "model = make_pipeline(StandardScaler(with_mean=False), RidgeClassifier())\n",
      "\n",
      "If you wish to pass a sample_weight parameter, you need to pass it as a fit parameter to each step of the pipeline as follows:\n",
      "\n",
      "kwargs = {s[0] + '__sample_weight': sample_weight for s in model.steps}\n",
      "model.fit(X, y, **kwargs)\n",
      "\n",
      "Set parameter alpha to: original_alpha * n_samples. \n",
      "  warnings.warn(\n",
      "C:\\Users\\hp\\anaconda3\\envs\\tensorflow_env\\lib\\site-packages\\sklearn\\linear_model\\_base.py:141: FutureWarning: 'normalize' was deprecated in version 1.0 and will be removed in 1.2.\n",
      "If you wish to scale the data, use Pipeline with a StandardScaler in a preprocessing stage. To reproduce the previous behavior:\n",
      "\n",
      "from sklearn.pipeline import make_pipeline\n",
      "\n",
      "model = make_pipeline(StandardScaler(with_mean=False), RidgeClassifier())\n",
      "\n",
      "If you wish to pass a sample_weight parameter, you need to pass it as a fit parameter to each step of the pipeline as follows:\n",
      "\n",
      "kwargs = {s[0] + '__sample_weight': sample_weight for s in model.steps}\n",
      "model.fit(X, y, **kwargs)\n",
      "\n",
      "Set parameter alpha to: original_alpha * n_samples. \n",
      "  warnings.warn(\n",
      "C:\\Users\\hp\\anaconda3\\envs\\tensorflow_env\\lib\\site-packages\\sklearn\\linear_model\\_base.py:141: FutureWarning: 'normalize' was deprecated in version 1.0 and will be removed in 1.2.\n",
      "If you wish to scale the data, use Pipeline with a StandardScaler in a preprocessing stage. To reproduce the previous behavior:\n",
      "\n",
      "from sklearn.pipeline import make_pipeline\n",
      "\n",
      "model = make_pipeline(StandardScaler(with_mean=False), RidgeClassifier())\n",
      "\n",
      "If you wish to pass a sample_weight parameter, you need to pass it as a fit parameter to each step of the pipeline as follows:\n",
      "\n",
      "kwargs = {s[0] + '__sample_weight': sample_weight for s in model.steps}\n",
      "model.fit(X, y, **kwargs)\n",
      "\n",
      "Set parameter alpha to: original_alpha * n_samples. \n",
      "  warnings.warn(\n",
      "C:\\Users\\hp\\anaconda3\\envs\\tensorflow_env\\lib\\site-packages\\sklearn\\linear_model\\_base.py:141: FutureWarning: 'normalize' was deprecated in version 1.0 and will be removed in 1.2.\n",
      "If you wish to scale the data, use Pipeline with a StandardScaler in a preprocessing stage. To reproduce the previous behavior:\n",
      "\n",
      "from sklearn.pipeline import make_pipeline\n",
      "\n",
      "model = make_pipeline(StandardScaler(with_mean=False), RidgeClassifier())\n",
      "\n",
      "If you wish to pass a sample_weight parameter, you need to pass it as a fit parameter to each step of the pipeline as follows:\n",
      "\n",
      "kwargs = {s[0] + '__sample_weight': sample_weight for s in model.steps}\n",
      "model.fit(X, y, **kwargs)\n",
      "\n",
      "Set parameter alpha to: original_alpha * n_samples. \n",
      "  warnings.warn(\n"
     ]
    },
    {
     "data": {
      "text/plain": [
       "array([0.72357724, 0.75609756, 0.68292683, 0.70731707, 0.68852459])"
      ]
     },
     "execution_count": 1215,
     "metadata": {},
     "output_type": "execute_result"
    }
   ],
   "source": [
    "cross_val_RIDGE=cross_val_score(model_RIDGE,xtrain,ytrain,cv=5, scoring='accuracy')\n",
    "cross_val_RIDGE"
   ]
  },
  {
   "cell_type": "code",
   "execution_count": 1216,
   "id": "e81c5683",
   "metadata": {},
   "outputs": [
    {
     "data": {
      "text/plain": [
       "0.7116886578701853"
      ]
     },
     "execution_count": 1216,
     "metadata": {},
     "output_type": "execute_result"
    }
   ],
   "source": [
    "cross_val_RIDGE.mean()"
   ]
  },
  {
   "cell_type": "markdown",
   "id": "b2f468df",
   "metadata": {},
   "source": [
    "#### 4-3 Le Modèle KNN"
   ]
  },
  {
   "cell_type": "code",
   "execution_count": 1217,
   "id": "72c6e033",
   "metadata": {},
   "outputs": [
    {
     "data": {
      "text/plain": [
       "array([0.72357724, 0.73170732, 0.70731707, 0.7804878 , 0.72131148])"
      ]
     },
     "execution_count": 1217,
     "metadata": {},
     "output_type": "execute_result"
    }
   ],
   "source": [
    "cross_val_KNN=cross_val_score(knn,xtrain,ytrain,cv=5, scoring='accuracy')\n",
    "cross_val_KNN"
   ]
  },
  {
   "cell_type": "code",
   "execution_count": 1218,
   "id": "1ea230f9",
   "metadata": {},
   "outputs": [
    {
     "data": {
      "text/plain": [
       "0.732880181260829"
      ]
     },
     "execution_count": 1218,
     "metadata": {},
     "output_type": "execute_result"
    }
   ],
   "source": [
    "cross_val_KNN.mean()"
   ]
  },
  {
   "cell_type": "markdown",
   "id": "cab4a9fb",
   "metadata": {},
   "source": [
    "#### 4-4 Le Modèle SVM"
   ]
  },
  {
   "cell_type": "code",
   "execution_count": 1219,
   "id": "8af2e374",
   "metadata": {},
   "outputs": [
    {
     "data": {
      "text/plain": [
       "array([0.75609756, 0.76422764, 0.72357724, 0.81300813, 0.78688525])"
      ]
     },
     "execution_count": 1219,
     "metadata": {},
     "output_type": "execute_result"
    }
   ],
   "source": [
    "cross_val_SVM=cross_val_score(classifier,xtrain,ytrain,cv=5, scoring='accuracy')\n",
    "cross_val_SVM"
   ]
  },
  {
   "cell_type": "code",
   "execution_count": 1220,
   "id": "c06c4f13",
   "metadata": {},
   "outputs": [
    {
     "data": {
      "text/plain": [
       "0.7687591630014661"
      ]
     },
     "execution_count": 1220,
     "metadata": {},
     "output_type": "execute_result"
    }
   ],
   "source": [
    "cross_val_SVM.mean()"
   ]
  },
  {
   "cell_type": "markdown",
   "id": "f1f33391",
   "metadata": {},
   "source": [
    "#### 4-5 le Modèle Arbre de décision"
   ]
  },
  {
   "cell_type": "code",
   "execution_count": 1221,
   "id": "3ac8e766",
   "metadata": {},
   "outputs": [
    {
     "data": {
      "text/plain": [
       "array([0.73170732, 0.74796748, 0.73170732, 0.76422764, 0.76229508])"
      ]
     },
     "execution_count": 1221,
     "metadata": {},
     "output_type": "execute_result"
    }
   ],
   "source": [
    "cross_val_ARB=cross_val_score(clf,xtrain,ytrain,cv=5, scoring='accuracy')\n",
    "cross_val_ARB"
   ]
  },
  {
   "cell_type": "code",
   "execution_count": 1222,
   "id": "55846b0c",
   "metadata": {},
   "outputs": [
    {
     "data": {
      "text/plain": [
       "0.7475809676129547"
      ]
     },
     "execution_count": 1222,
     "metadata": {},
     "output_type": "execute_result"
    }
   ],
   "source": [
    "cross_val_ARB.mean()"
   ]
  },
  {
   "cell_type": "markdown",
   "id": "8151b52d",
   "metadata": {},
   "source": [
    "#### Observation : L'efficacité de SVM et plus grand queTree et KNN aussi est plus grand de Ridge et Logistique"
   ]
  },
  {
   "cell_type": "markdown",
   "id": "24212d8b",
   "metadata": {},
   "source": [
    "### 5- Mesures de Performances:"
   ]
  },
  {
   "cell_type": "markdown",
   "id": "73097a1a",
   "metadata": {},
   "source": [
    "### Mesure par Matrice de Confusion :"
   ]
  },
  {
   "cell_type": "markdown",
   "id": "613eba9c",
   "metadata": {},
   "source": [
    "#### Remarque : Par rapport à (Accuracy) le model Arbre de décision est plus performant que SVM, qui y est plus perfomant que KNN, Le Ridge et enfin le Logistique"
   ]
  },
  {
   "cell_type": "markdown",
   "id": "29e5198a",
   "metadata": {},
   "source": [
    "### Courbe de ROC"
   ]
  },
  {
   "cell_type": "code",
   "execution_count": 1223,
   "id": "030aa225",
   "metadata": {},
   "outputs": [
    {
     "name": "stderr",
     "output_type": "stream",
     "text": [
      "C:\\Users\\hp\\anaconda3\\envs\\tensorflow_env\\lib\\site-packages\\sklearn\\base.py:445: UserWarning: X does not have valid feature names, but KNeighborsClassifier was fitted with feature names\n",
      "  warnings.warn(\n",
      "C:\\Users\\hp\\anaconda3\\envs\\tensorflow_env\\lib\\site-packages\\sklearn\\base.py:445: UserWarning: X does not have valid feature names, but DecisionTreeClassifier was fitted with feature names\n",
      "  warnings.warn(\n"
     ]
    }
   ],
   "source": [
    "#calcul des prédictions\n",
    "y_test_predK=knn.predict(xtest)\n",
    "y_test_predC=classifier.predict(xtest)\n",
    "y_test_predR=model_RIDGE.predict(xtest)\n",
    "y_test_predL=modelLOG.predict(xtest)\n",
    "y_test_predT=clf.predict(xtest)"
   ]
  },
  {
   "cell_type": "code",
   "execution_count": 1224,
   "id": "50a1158b",
   "metadata": {},
   "outputs": [],
   "source": [
    "fprC, tprC, thrC = metrics.roc_curve(ytest, y_test_predC)\n",
    "fprK, tprK, thrK = metrics.roc_curve(ytest, y_test_predK)\n",
    "fprR, tprR, thrR = metrics.roc_curve(ytest, y_test_predR)\n",
    "fprL, tprL, thrL = metrics.roc_curve(ytest, y_test_predL)\n",
    "fprT, tprT, thrT = metrics.roc_curve(ytest, y_test_predT)"
   ]
  },
  {
   "cell_type": "code",
   "execution_count": 1225,
   "id": "490fa09b",
   "metadata": {},
   "outputs": [],
   "source": [
    "#calcule des surface\n",
    "aucC = metrics.auc(fprC, tprC)\n",
    "aucK = metrics.auc(fprK, tprK)\n",
    "aucR = metrics.auc(fprR, tprR)\n",
    "aucL = metrics.auc(fprL, tprL)\n",
    "aucT = metrics.auc(fprT, tprT)"
   ]
  },
  {
   "cell_type": "code",
   "execution_count": 1226,
   "id": "95a98cd5",
   "metadata": {
    "scrolled": false
   },
   "outputs": [
    {
     "data": {
      "image/png": "[encoded data removed]",
      "text/plain": [
       "<Figure size 576x576 with 1 Axes>"
      ]
     },
     "metadata": {
      "needs_background": "light"
     },
     "output_type": "display_data"
    }
   ],
   "source": [
    "#on plot la courbe de ROC\n",
    "fig = plt.figure(figsize=(8, 8))\n",
    "plt.plot(fprC, tprC, '-', lw=2, label='gamma=0.01, AUCsvc=%.2f' % aucC)\n",
    "plt.plot(fprK, tprK, 'g-', lw=2, label='gamma=0.01, AUCknn=%.2f' % aucK)\n",
    "plt.plot(fprR, tprR, 'y-', lw=2, label='gamma=0.01, AUCridge_reg=%.2f' % aucR)\n",
    "plt.plot(fprL, tprL, 'b-', lw=2, label='gamma=0.01, AUClog_reg=%.2f' % aucL)\n",
    "plt.plot(fprT, tprT, 'r-', lw=2, label='gamma=0.01, AUCtree=%.2f' % aucT)\n",
    "plt.xlabel('False Positive Rate', fontsize=16)\n",
    "plt.ylabel('True Positive Rate', fontsize=16)\n",
    "plt.title('SVM,KNN,REG ROC Curve', fontsize=16)\n",
    "plt.legend(loc=\"lower right\", fontsize=14)\n",
    "plt.show()"
   ]
  },
  {
   "cell_type": "markdown",
   "id": "75461d60",
   "metadata": {},
   "source": [
    "#### Conclusion : souvent à partire de la courbe de ROC on trouve que le meilleur modèles est l'arbre de décision"
   ]
  },
  {
   "cell_type": "code",
   "execution_count": 574,
   "id": "d3cfe9b4",
   "metadata": {},
   "outputs": [],
   "source": [
    "### on sauvgarde le meilleur modèle (tree) "
   ]
  },
  {
   "cell_type": "code",
   "execution_count": 575,
   "id": "623539d7",
   "metadata": {},
   "outputs": [],
   "source": [
    "import pickle"
   ]
  },
  {
   "cell_type": "code",
   "execution_count": 1235,
   "id": "0cd59c84",
   "metadata": {},
   "outputs": [],
   "source": [
    "### sauvgarder comme un fichier pikle string\n",
    "with open('TR.pickle', 'wb') as f:\n",
    "    pickle.dump(clf, f)"
   ]
  },
  {
   "cell_type": "code",
   "execution_count": null,
   "id": "df937580",
   "metadata": {},
   "outputs": [],
   "source": []
  },
  {
   "cell_type": "code",
   "execution_count": null,
   "id": "cc1732b3",
   "metadata": {},
   "outputs": [],
   "source": []
  },
  {
   "cell_type": "markdown",
   "id": "a217e32f",
   "metadata": {},
   "source": [
    "## Partie 2 : Le réseau de neurones"
   ]
  },
  {
   "cell_type": "markdown",
   "id": "33f8c812",
   "metadata": {},
   "source": [
    "### * Construction du modèle d'apprentissage profond"
   ]
  },
  {
   "cell_type": "markdown",
   "id": "eb9ac72e",
   "metadata": {},
   "source": [
    "#### 1-\tPour appliquer un modèle de deep learning, l’ensemble de données ne doit contenir que des variables numériques"
   ]
  },
  {
   "cell_type": "code",
   "execution_count": 101,
   "id": "d83960fc",
   "metadata": {},
   "outputs": [
    {
     "name": "stdout",
     "output_type": "stream",
     "text": [
      "<class 'pandas.core.frame.DataFrame'>\n",
      "RangeIndex: 768 entries, 0 to 767\n",
      "Data columns (total 8 columns):\n",
      " #   Column                    Non-Null Count  Dtype  \n",
      "---  ------                    --------------  -----  \n",
      " 0   Pregnancies               768 non-null    float64\n",
      " 1   Glucose                   768 non-null    float64\n",
      " 2   BloodPressure             768 non-null    float64\n",
      " 3   SkinThickness             768 non-null    float64\n",
      " 4   Insulin                   768 non-null    float64\n",
      " 5   BMI                       768 non-null    float64\n",
      " 6   DiabetesPedigreeFunction  768 non-null    float64\n",
      " 7   Age                       768 non-null    float64\n",
      "dtypes: float64(8)\n",
      "memory usage: 48.1 KB\n"
     ]
    }
   ],
   "source": [
    "### on va visualiser notre données standarisées d'après des Histogrammes.\n",
    "histogram=pd.DataFrame(dataframe_scaled,columns=['Pregnancies','Glucose','BloodPressure','SkinThickness','Insulin',\n",
    "                                              'BMI','DiabetesPedigreeFunction','Age'])\n",
    "histogram.info()"
   ]
  },
  {
   "cell_type": "code",
   "execution_count": 102,
   "id": "3224a111",
   "metadata": {},
   "outputs": [],
   "source": [
    "#### pour travaller avec Keras au réseau de neurones il faut importer les bibliotheques :\n",
    "import tensorflow as tf\n",
    "from tensorflow import keras\n",
    "from tensorflow.keras import layers\n",
    "from keras.layers import Dense\n",
    "from keras.layers import Dropout"
   ]
  },
  {
   "cell_type": "code",
   "execution_count": 207,
   "id": "475ec3b1",
   "metadata": {},
   "outputs": [],
   "source": [
    "### ici on met 5 layers pour diminuer la valeur de loss\n",
    "### pour le nombre de neurons on change le change tant que les valeurs stagnent.\n",
    "mod = keras.Sequential([\n",
    "layers.Dense(64, activation = 'relu', input_shape = [xtrain.shape[1]]),\n",
    "layers.Dropout(0.3, seed = 2),\n",
    "layers.Dense(70, activation = 'sigmoid'),  \n",
    "layers.Dense(64, activation = 'relu'),      \n",
    "layers.Dense(64, activation = 'sigmoid'),     \n",
    "layers.Dense(64, activation = 'relu'),     \n",
    "layers.Dense(1)])\n",
    "### pour la couche de sortie on met seulement un neuron"
   ]
  },
  {
   "cell_type": "code",
   "execution_count": 208,
   "id": "d533567b",
   "metadata": {},
   "outputs": [],
   "source": [
    "### notre optimiseur\n",
    "optimiseur = tf.keras.optimizers.RMSprop(learning_rate = 0.001)\n",
    "# corriger les liaison entre les couche\n",
    "### dons notre metrics on calcule la précision (accuracy)\n",
    "mod.compile(loss ='binary_crossentropy', optimizer = optimiseur,metrics = ['accuracy'])\n",
    "### pour rendre notre modèle à une classification on met loss='binary_crossentropy'"
   ]
  },
  {
   "cell_type": "code",
   "execution_count": 209,
   "id": "2088bb30",
   "metadata": {
    "scrolled": true
   },
   "outputs": [
    {
     "name": "stdout",
     "output_type": "stream",
     "text": [
      "Epoch 1/100\n",
      "16/16 - 2s - loss: 0.7624 - accuracy: 0.5784 - val_loss: 0.6219 - val_accuracy: 0.6829\n",
      "Epoch 2/100\n",
      "16/16 - 0s - loss: 0.6605 - accuracy: 0.6171 - val_loss: 0.7422 - val_accuracy: 0.3252\n",
      "Epoch 3/100\n",
      "16/16 - 0s - loss: 0.6717 - accuracy: 0.5947 - val_loss: 0.6632 - val_accuracy: 0.6585\n",
      "Epoch 4/100\n",
      "16/16 - 0s - loss: 0.6767 - accuracy: 0.6151 - val_loss: 0.6347 - val_accuracy: 0.6911\n",
      "Epoch 5/100\n",
      "16/16 - 0s - loss: 0.6470 - accuracy: 0.6497 - val_loss: 0.6957 - val_accuracy: 0.5366\n",
      "Epoch 6/100\n",
      "16/16 - 0s - loss: 0.6678 - accuracy: 0.6008 - val_loss: 0.6066 - val_accuracy: 0.6829\n",
      "Epoch 7/100\n",
      "16/16 - 0s - loss: 0.6596 - accuracy: 0.6293 - val_loss: 0.5839 - val_accuracy: 0.6585\n",
      "Epoch 8/100\n",
      "16/16 - 0s - loss: 0.6711 - accuracy: 0.5988 - val_loss: 0.7001 - val_accuracy: 0.6829\n",
      "Epoch 9/100\n",
      "16/16 - 0s - loss: 0.6552 - accuracy: 0.6253 - val_loss: 0.6129 - val_accuracy: 0.6829\n",
      "Epoch 10/100\n",
      "16/16 - 0s - loss: 0.6370 - accuracy: 0.6375 - val_loss: 0.7179 - val_accuracy: 0.5854\n",
      "Epoch 11/100\n",
      "16/16 - 0s - loss: 0.6758 - accuracy: 0.5906 - val_loss: 0.5815 - val_accuracy: 0.6667\n",
      "Epoch 12/100\n",
      "16/16 - 0s - loss: 0.6342 - accuracy: 0.6517 - val_loss: 0.5727 - val_accuracy: 0.6829\n",
      "Epoch 13/100\n",
      "16/16 - 0s - loss: 0.6392 - accuracy: 0.6517 - val_loss: 0.6760 - val_accuracy: 0.6179\n",
      "Epoch 14/100\n",
      "16/16 - 0s - loss: 0.6843 - accuracy: 0.5886 - val_loss: 0.6698 - val_accuracy: 0.6016\n",
      "Epoch 15/100\n",
      "16/16 - 0s - loss: 0.6357 - accuracy: 0.6619 - val_loss: 0.7389 - val_accuracy: 0.5772\n",
      "Epoch 16/100\n",
      "16/16 - 0s - loss: 0.6381 - accuracy: 0.6334 - val_loss: 0.5677 - val_accuracy: 0.6667\n",
      "Epoch 17/100\n",
      "16/16 - 0s - loss: 0.6562 - accuracy: 0.6517 - val_loss: 0.6973 - val_accuracy: 0.6585\n",
      "Epoch 18/100\n",
      "16/16 - 0s - loss: 0.6505 - accuracy: 0.6375 - val_loss: 0.5773 - val_accuracy: 0.6992\n",
      "Epoch 19/100\n",
      "16/16 - 0s - loss: 0.6598 - accuracy: 0.6171 - val_loss: 0.5815 - val_accuracy: 0.6585\n",
      "Epoch 20/100\n",
      "16/16 - 0s - loss: 0.6399 - accuracy: 0.6436 - val_loss: 0.5740 - val_accuracy: 0.6667\n",
      "Epoch 21/100\n",
      "16/16 - 0s - loss: 0.6489 - accuracy: 0.6558 - val_loss: 0.6575 - val_accuracy: 0.6667\n",
      "Epoch 22/100\n",
      "16/16 - 0s - loss: 0.6465 - accuracy: 0.6375 - val_loss: 0.6811 - val_accuracy: 0.6341\n",
      "Epoch 23/100\n",
      "16/16 - 0s - loss: 0.6349 - accuracy: 0.6212 - val_loss: 0.6743 - val_accuracy: 0.6423\n",
      "Epoch 24/100\n",
      "16/16 - 0s - loss: 0.6171 - accuracy: 0.6660 - val_loss: 0.5898 - val_accuracy: 0.6585\n",
      "Epoch 25/100\n",
      "16/16 - 0s - loss: 0.6602 - accuracy: 0.6008 - val_loss: 0.6000 - val_accuracy: 0.6748\n",
      "Epoch 26/100\n",
      "16/16 - 0s - loss: 0.6570 - accuracy: 0.6069 - val_loss: 0.6224 - val_accuracy: 0.6911\n",
      "Epoch 27/100\n",
      "16/16 - 0s - loss: 0.6393 - accuracy: 0.6395 - val_loss: 0.6379 - val_accuracy: 0.7073\n",
      "Epoch 28/100\n",
      "16/16 - 0s - loss: 0.6370 - accuracy: 0.6436 - val_loss: 0.6906 - val_accuracy: 0.6179\n",
      "Epoch 29/100\n",
      "16/16 - 0s - loss: 0.6335 - accuracy: 0.6212 - val_loss: 0.5625 - val_accuracy: 0.6748\n",
      "Epoch 30/100\n",
      "16/16 - 0s - loss: 0.6201 - accuracy: 0.6680 - val_loss: 0.5757 - val_accuracy: 0.7236\n",
      "Epoch 31/100\n",
      "16/16 - 0s - loss: 0.6259 - accuracy: 0.6517 - val_loss: 0.6287 - val_accuracy: 0.6423\n",
      "Epoch 32/100\n",
      "16/16 - 0s - loss: 0.6306 - accuracy: 0.6415 - val_loss: 0.5757 - val_accuracy: 0.6667\n",
      "Epoch 33/100\n",
      "16/16 - 0s - loss: 0.6277 - accuracy: 0.6619 - val_loss: 0.7180 - val_accuracy: 0.6098\n",
      "Epoch 34/100\n",
      "16/16 - 0s - loss: 0.6280 - accuracy: 0.6497 - val_loss: 0.5865 - val_accuracy: 0.6585\n",
      "Epoch 35/100\n",
      "16/16 - 0s - loss: 0.6297 - accuracy: 0.6538 - val_loss: 0.5656 - val_accuracy: 0.6911\n",
      "Epoch 36/100\n",
      "16/16 - 0s - loss: 0.6247 - accuracy: 0.6354 - val_loss: 0.8404 - val_accuracy: 0.6829\n",
      "Epoch 37/100\n",
      "16/16 - 0s - loss: 0.6268 - accuracy: 0.6538 - val_loss: 0.6214 - val_accuracy: 0.6911\n",
      "Epoch 38/100\n",
      "16/16 - 0s - loss: 0.6499 - accuracy: 0.6578 - val_loss: 0.5809 - val_accuracy: 0.6992\n",
      "Epoch 39/100\n",
      "16/16 - 0s - loss: 0.6153 - accuracy: 0.6680 - val_loss: 0.5588 - val_accuracy: 0.6585\n",
      "Epoch 40/100\n",
      "16/16 - 0s - loss: 0.6167 - accuracy: 0.6578 - val_loss: 0.5631 - val_accuracy: 0.7154\n",
      "Epoch 41/100\n",
      "16/16 - 0s - loss: 0.6183 - accuracy: 0.6578 - val_loss: 0.5562 - val_accuracy: 0.6667\n",
      "Epoch 42/100\n",
      "16/16 - 0s - loss: 0.6531 - accuracy: 0.6456 - val_loss: 0.9650 - val_accuracy: 0.6667\n",
      "Epoch 43/100\n",
      "16/16 - 0s - loss: 0.6255 - accuracy: 0.6680 - val_loss: 0.5541 - val_accuracy: 0.6829\n",
      "Epoch 44/100\n",
      "16/16 - 0s - loss: 0.6387 - accuracy: 0.6599 - val_loss: 0.7203 - val_accuracy: 0.6667\n",
      "Epoch 45/100\n",
      "16/16 - 0s - loss: 0.6124 - accuracy: 0.6599 - val_loss: 1.2938 - val_accuracy: 0.6911\n",
      "Epoch 46/100\n",
      "16/16 - 0s - loss: 0.6694 - accuracy: 0.6640 - val_loss: 0.5437 - val_accuracy: 0.7398\n",
      "Epoch 47/100\n",
      "16/16 - 0s - loss: 0.6395 - accuracy: 0.6212 - val_loss: 0.5408 - val_accuracy: 0.6829\n",
      "Epoch 48/100\n",
      "16/16 - 0s - loss: 0.6416 - accuracy: 0.6945 - val_loss: 0.5452 - val_accuracy: 0.6992\n",
      "Epoch 49/100\n",
      "16/16 - 0s - loss: 0.6147 - accuracy: 0.6314 - val_loss: 0.7617 - val_accuracy: 0.6748\n",
      "Epoch 50/100\n",
      "16/16 - 0s - loss: 0.6155 - accuracy: 0.6741 - val_loss: 0.6422 - val_accuracy: 0.6504\n",
      "Epoch 51/100\n",
      "16/16 - 0s - loss: 0.6022 - accuracy: 0.6599 - val_loss: 0.5387 - val_accuracy: 0.7073\n",
      "Epoch 52/100\n",
      "16/16 - 0s - loss: 0.6284 - accuracy: 0.6375 - val_loss: 0.5397 - val_accuracy: 0.7154\n",
      "Epoch 53/100\n",
      "16/16 - 0s - loss: 0.6057 - accuracy: 0.6864 - val_loss: 0.5854 - val_accuracy: 0.6992\n",
      "Epoch 54/100\n",
      "16/16 - 0s - loss: 0.6006 - accuracy: 0.6843 - val_loss: 0.6694 - val_accuracy: 0.6911\n",
      "Epoch 55/100\n",
      "16/16 - 0s - loss: 0.6122 - accuracy: 0.6578 - val_loss: 0.5580 - val_accuracy: 0.6667\n",
      "Epoch 56/100\n",
      "16/16 - 0s - loss: 0.6073 - accuracy: 0.6538 - val_loss: 0.5647 - val_accuracy: 0.7398\n",
      "Epoch 57/100\n",
      "16/16 - 0s - loss: 0.5953 - accuracy: 0.6741 - val_loss: 0.5551 - val_accuracy: 0.6992\n",
      "Epoch 58/100\n",
      "16/16 - 0s - loss: 0.6093 - accuracy: 0.6721 - val_loss: 0.5832 - val_accuracy: 0.7073\n",
      "Epoch 59/100\n",
      "16/16 - 0s - loss: 0.6196 - accuracy: 0.6884 - val_loss: 0.5603 - val_accuracy: 0.6992\n",
      "Epoch 60/100\n",
      "16/16 - 0s - loss: 0.5992 - accuracy: 0.6762 - val_loss: 0.5537 - val_accuracy: 0.6748\n",
      "Epoch 61/100\n",
      "16/16 - 0s - loss: 0.6125 - accuracy: 0.6721 - val_loss: 0.6425 - val_accuracy: 0.6911\n",
      "Epoch 62/100\n",
      "16/16 - 0s - loss: 0.6011 - accuracy: 0.6986 - val_loss: 0.5429 - val_accuracy: 0.7236\n",
      "Epoch 63/100\n",
      "16/16 - 0s - loss: 0.5906 - accuracy: 0.6945 - val_loss: 0.5464 - val_accuracy: 0.7073\n",
      "Epoch 64/100\n",
      "16/16 - 0s - loss: 0.6155 - accuracy: 0.6599 - val_loss: 0.6064 - val_accuracy: 0.6748\n",
      "Epoch 65/100\n",
      "16/16 - 0s - loss: 0.6274 - accuracy: 0.6680 - val_loss: 0.5399 - val_accuracy: 0.7073\n",
      "Epoch 66/100\n",
      "16/16 - 0s - loss: 0.5949 - accuracy: 0.6884 - val_loss: 0.5482 - val_accuracy: 0.7154\n",
      "Epoch 67/100\n",
      "16/16 - 0s - loss: 0.5977 - accuracy: 0.6762 - val_loss: 0.5557 - val_accuracy: 0.7073\n",
      "Epoch 68/100\n",
      "16/16 - 0s - loss: 0.6046 - accuracy: 0.6782 - val_loss: 0.5528 - val_accuracy: 0.7236\n",
      "Epoch 69/100\n",
      "16/16 - 0s - loss: 0.5934 - accuracy: 0.6680 - val_loss: 0.5318 - val_accuracy: 0.7480\n",
      "Epoch 70/100\n",
      "16/16 - 0s - loss: 0.6040 - accuracy: 0.6925 - val_loss: 0.5510 - val_accuracy: 0.7317\n",
      "Epoch 71/100\n",
      "16/16 - 0s - loss: 0.6140 - accuracy: 0.6823 - val_loss: 0.5682 - val_accuracy: 0.7154\n",
      "Epoch 72/100\n",
      "16/16 - 0s - loss: 0.5925 - accuracy: 0.6986 - val_loss: 0.5417 - val_accuracy: 0.7236\n",
      "Epoch 73/100\n",
      "16/16 - 0s - loss: 0.5843 - accuracy: 0.6904 - val_loss: 0.5357 - val_accuracy: 0.7317\n",
      "Epoch 74/100\n",
      "16/16 - 0s - loss: 0.5780 - accuracy: 0.7169 - val_loss: 0.5550 - val_accuracy: 0.6829\n",
      "Epoch 75/100\n",
      "16/16 - 0s - loss: 0.5941 - accuracy: 0.6741 - val_loss: 0.5500 - val_accuracy: 0.7236\n",
      "Epoch 76/100\n",
      "16/16 - 0s - loss: 0.5970 - accuracy: 0.6965 - val_loss: 0.5465 - val_accuracy: 0.7154\n",
      "Epoch 77/100\n",
      "16/16 - 0s - loss: 0.5862 - accuracy: 0.7088 - val_loss: 0.5772 - val_accuracy: 0.6911\n",
      "Epoch 78/100\n",
      "16/16 - 0s - loss: 0.6144 - accuracy: 0.6802 - val_loss: 0.5312 - val_accuracy: 0.7236\n",
      "Epoch 79/100\n",
      "16/16 - 0s - loss: 0.5920 - accuracy: 0.7169 - val_loss: 0.5366 - val_accuracy: 0.7073\n",
      "Epoch 80/100\n",
      "16/16 - 0s - loss: 0.5980 - accuracy: 0.6925 - val_loss: 0.5426 - val_accuracy: 0.7073\n",
      "Epoch 81/100\n",
      "16/16 - 0s - loss: 0.5851 - accuracy: 0.6986 - val_loss: 0.5668 - val_accuracy: 0.7073\n",
      "Epoch 82/100\n",
      "16/16 - 0s - loss: 0.5931 - accuracy: 0.6945 - val_loss: 0.5317 - val_accuracy: 0.7236\n",
      "Epoch 83/100\n"
     ]
    },
    {
     "name": "stdout",
     "output_type": "stream",
     "text": [
      "16/16 - 0s - loss: 0.6067 - accuracy: 0.6680 - val_loss: 0.5433 - val_accuracy: 0.7073\n",
      "Epoch 84/100\n",
      "16/16 - 0s - loss: 0.5936 - accuracy: 0.7026 - val_loss: 0.5429 - val_accuracy: 0.7073\n",
      "Epoch 85/100\n",
      "16/16 - 0s - loss: 0.6172 - accuracy: 0.6762 - val_loss: 0.5390 - val_accuracy: 0.6992\n",
      "Epoch 86/100\n",
      "16/16 - 0s - loss: 0.6008 - accuracy: 0.6884 - val_loss: 0.5520 - val_accuracy: 0.6911\n",
      "Epoch 87/100\n",
      "16/16 - 0s - loss: 0.5944 - accuracy: 0.7088 - val_loss: 0.5791 - val_accuracy: 0.7398\n",
      "Epoch 88/100\n",
      "16/16 - 0s - loss: 0.5970 - accuracy: 0.7026 - val_loss: 0.5797 - val_accuracy: 0.6829\n",
      "Epoch 89/100\n",
      "16/16 - 0s - loss: 0.5708 - accuracy: 0.6904 - val_loss: 0.9637 - val_accuracy: 0.6911\n",
      "Epoch 90/100\n",
      "16/16 - 0s - loss: 0.6035 - accuracy: 0.7006 - val_loss: 0.5431 - val_accuracy: 0.7236\n",
      "Epoch 91/100\n",
      "16/16 - 0s - loss: 0.5899 - accuracy: 0.6945 - val_loss: 0.5412 - val_accuracy: 0.7154\n",
      "Epoch 92/100\n",
      "16/16 - 0s - loss: 0.5855 - accuracy: 0.7006 - val_loss: 0.5502 - val_accuracy: 0.6992\n",
      "Epoch 93/100\n",
      "16/16 - 0s - loss: 0.5816 - accuracy: 0.7149 - val_loss: 0.5413 - val_accuracy: 0.6992\n",
      "Epoch 94/100\n",
      "16/16 - 0s - loss: 0.6064 - accuracy: 0.7088 - val_loss: 0.5475 - val_accuracy: 0.7317\n",
      "Epoch 95/100\n",
      "16/16 - 0s - loss: 0.5900 - accuracy: 0.6986 - val_loss: 0.5377 - val_accuracy: 0.7154\n",
      "Epoch 96/100\n",
      "16/16 - 0s - loss: 0.5739 - accuracy: 0.7108 - val_loss: 0.5367 - val_accuracy: 0.7317\n",
      "Epoch 97/100\n",
      "16/16 - 0s - loss: 0.5858 - accuracy: 0.7006 - val_loss: 0.5225 - val_accuracy: 0.7398\n",
      "Epoch 98/100\n",
      "16/16 - 0s - loss: 0.6026 - accuracy: 0.6864 - val_loss: 0.5101 - val_accuracy: 0.7561\n",
      "Epoch 99/100\n",
      "16/16 - 0s - loss: 0.5832 - accuracy: 0.6904 - val_loss: 0.5041 - val_accuracy: 0.7317\n",
      "Epoch 100/100\n",
      "16/16 - 0s - loss: 0.5937 - accuracy: 0.6884 - val_loss: 0.5154 - val_accuracy: 0.7236\n"
     ]
    }
   ],
   "source": [
    "### on sauvgarde l'historique de fit de notre modèle\n",
    "history2 = mod.fit(xtrain, ytrain, validation_split=0.20, epochs=100, verbose=2)"
   ]
  },
  {
   "cell_type": "code",
   "execution_count": 210,
   "id": "313ad27c",
   "metadata": {},
   "outputs": [
    {
     "name": "stdout",
     "output_type": "stream",
     "text": [
      "5/5 - 0s - loss: 0.5878 - accuracy: 0.7013\n",
      "[0.5878371000289917, 0.701298713684082]\n"
     ]
    }
   ],
   "source": [
    "### calcul de précision\n",
    "score = mod.evaluate( xtest, ytest, verbose = 2)\n",
    "print(score)"
   ]
  },
  {
   "cell_type": "code",
   "execution_count": 391,
   "id": "71c4f532",
   "metadata": {},
   "outputs": [],
   "source": [
    "### on suavgarde notre modèle\n",
    "### mod.save('mod70.h5')"
   ]
  },
  {
   "cell_type": "code",
   "execution_count": 687,
   "id": "31c04814",
   "metadata": {},
   "outputs": [],
   "source": [
    "### pour importer notre model\n",
    "my_model = tf.keras.models.load_model(\"mod70.h5\")"
   ]
  },
  {
   "cell_type": "code",
   "execution_count": 688,
   "id": "e05cfb03",
   "metadata": {},
   "outputs": [
    {
     "name": "stdout",
     "output_type": "stream",
     "text": [
      "Model: \"sequential_21\"\n",
      "_________________________________________________________________\n",
      "Layer (type)                 Output Shape              Param #   \n",
      "=================================================================\n",
      "dense_139 (Dense)            (None, 64)                576       \n",
      "_________________________________________________________________\n",
      "dropout_21 (Dropout)         (None, 64)                0         \n",
      "_________________________________________________________________\n",
      "dense_140 (Dense)            (None, 70)                4550      \n",
      "_________________________________________________________________\n",
      "dense_141 (Dense)            (None, 64)                4544      \n",
      "_________________________________________________________________\n",
      "dense_142 (Dense)            (None, 64)                4160      \n",
      "_________________________________________________________________\n",
      "dense_143 (Dense)            (None, 64)                4160      \n",
      "_________________________________________________________________\n",
      "dense_144 (Dense)            (None, 1)                 65        \n",
      "=================================================================\n",
      "Total params: 18,055\n",
      "Trainable params: 18,055\n",
      "Non-trainable params: 0\n",
      "_________________________________________________________________\n"
     ]
    }
   ],
   "source": [
    "### des informations apropos de notre modèle\n",
    "my_model.summary()"
   ]
  },
  {
   "cell_type": "code",
   "execution_count": 689,
   "id": "7c56c57d",
   "metadata": {
    "scrolled": true
   },
   "outputs": [
    {
     "name": "stdout",
     "output_type": "stream",
     "text": [
      "Epoch 1/90\n",
      "16/16 - 1s - loss: 0.5826 - accuracy: 0.7006 - val_loss: 0.5540 - val_accuracy: 0.7480\n",
      "Epoch 2/90\n",
      "16/16 - 0s - loss: 0.5980 - accuracy: 0.6986 - val_loss: 0.5595 - val_accuracy: 0.7073\n",
      "Epoch 3/90\n",
      "16/16 - 0s - loss: 0.5708 - accuracy: 0.6904 - val_loss: 0.5629 - val_accuracy: 0.7398\n",
      "Epoch 4/90\n",
      "16/16 - 0s - loss: 0.5728 - accuracy: 0.7108 - val_loss: 0.5539 - val_accuracy: 0.7398\n",
      "Epoch 5/90\n",
      "16/16 - 0s - loss: 0.5797 - accuracy: 0.7108 - val_loss: 0.5635 - val_accuracy: 0.7073\n",
      "Epoch 6/90\n",
      "16/16 - 0s - loss: 0.6038 - accuracy: 0.7026 - val_loss: 0.5747 - val_accuracy: 0.7236\n",
      "Epoch 7/90\n",
      "16/16 - 0s - loss: 0.5776 - accuracy: 0.7189 - val_loss: 0.5581 - val_accuracy: 0.7154\n",
      "Epoch 8/90\n",
      "16/16 - 0s - loss: 0.5788 - accuracy: 0.7026 - val_loss: 0.5679 - val_accuracy: 0.6911\n",
      "Epoch 9/90\n",
      "16/16 - 0s - loss: 0.5762 - accuracy: 0.7108 - val_loss: 0.5599 - val_accuracy: 0.7561\n",
      "Epoch 10/90\n",
      "16/16 - 0s - loss: 0.5704 - accuracy: 0.7251 - val_loss: 0.5706 - val_accuracy: 0.7073\n",
      "Epoch 11/90\n",
      "16/16 - 0s - loss: 0.5539 - accuracy: 0.7108 - val_loss: 0.5507 - val_accuracy: 0.7480\n",
      "Epoch 12/90\n",
      "16/16 - 0s - loss: 0.5741 - accuracy: 0.7047 - val_loss: 0.5565 - val_accuracy: 0.7317\n",
      "Epoch 13/90\n",
      "16/16 - 0s - loss: 0.6257 - accuracy: 0.7026 - val_loss: 0.5621 - val_accuracy: 0.7154\n",
      "Epoch 14/90\n",
      "16/16 - 0s - loss: 0.5792 - accuracy: 0.6802 - val_loss: 0.5825 - val_accuracy: 0.7073\n",
      "Epoch 15/90\n",
      "16/16 - 0s - loss: 0.5768 - accuracy: 0.6884 - val_loss: 0.5679 - val_accuracy: 0.7317\n",
      "Epoch 16/90\n",
      "16/16 - 0s - loss: 0.5662 - accuracy: 0.7006 - val_loss: 0.5547 - val_accuracy: 0.7398\n",
      "Epoch 17/90\n",
      "16/16 - 0s - loss: 0.6101 - accuracy: 0.7251 - val_loss: 0.6288 - val_accuracy: 0.6992\n",
      "Epoch 18/90\n",
      "16/16 - 0s - loss: 0.5604 - accuracy: 0.7047 - val_loss: 0.6178 - val_accuracy: 0.7154\n",
      "Epoch 19/90\n",
      "16/16 - 0s - loss: 0.5764 - accuracy: 0.7047 - val_loss: 0.5491 - val_accuracy: 0.7398\n",
      "Epoch 20/90\n",
      "16/16 - 0s - loss: 0.5526 - accuracy: 0.7271 - val_loss: 0.5583 - val_accuracy: 0.7073\n",
      "Epoch 21/90\n",
      "16/16 - 0s - loss: 0.5721 - accuracy: 0.7352 - val_loss: 0.5698 - val_accuracy: 0.7236\n",
      "Epoch 22/90\n",
      "16/16 - 0s - loss: 0.5684 - accuracy: 0.7088 - val_loss: 0.5471 - val_accuracy: 0.7480\n",
      "Epoch 23/90\n",
      "16/16 - 0s - loss: 0.5622 - accuracy: 0.7128 - val_loss: 1.1801 - val_accuracy: 0.6829\n",
      "Epoch 24/90\n",
      "16/16 - 0s - loss: 0.5752 - accuracy: 0.6965 - val_loss: 0.6252 - val_accuracy: 0.7236\n",
      "Epoch 25/90\n",
      "16/16 - 0s - loss: 0.5696 - accuracy: 0.7088 - val_loss: 0.6268 - val_accuracy: 0.7317\n",
      "Epoch 26/90\n",
      "16/16 - 0s - loss: 0.5524 - accuracy: 0.7047 - val_loss: 0.6100 - val_accuracy: 0.7073\n",
      "Epoch 27/90\n",
      "16/16 - 0s - loss: 0.5423 - accuracy: 0.7149 - val_loss: 0.5546 - val_accuracy: 0.7317\n",
      "Epoch 28/90\n",
      "16/16 - 0s - loss: 0.5722 - accuracy: 0.6864 - val_loss: 0.5447 - val_accuracy: 0.7724\n",
      "Epoch 29/90\n",
      "16/16 - 0s - loss: 0.5623 - accuracy: 0.7128 - val_loss: 0.5796 - val_accuracy: 0.7480\n",
      "Epoch 30/90\n",
      "16/16 - 0s - loss: 0.5467 - accuracy: 0.7189 - val_loss: 0.6542 - val_accuracy: 0.6748\n",
      "Epoch 31/90\n",
      "16/16 - 0s - loss: 0.5550 - accuracy: 0.7067 - val_loss: 0.5580 - val_accuracy: 0.6992\n",
      "Epoch 32/90\n",
      "16/16 - 0s - loss: 0.5653 - accuracy: 0.7169 - val_loss: 0.5786 - val_accuracy: 0.7317\n",
      "Epoch 33/90\n",
      "16/16 - 0s - loss: 0.5450 - accuracy: 0.7230 - val_loss: 0.6417 - val_accuracy: 0.7398\n",
      "Epoch 34/90\n",
      "16/16 - 0s - loss: 0.5693 - accuracy: 0.6945 - val_loss: 0.5825 - val_accuracy: 0.7317\n",
      "Epoch 35/90\n",
      "16/16 - 0s - loss: 0.5439 - accuracy: 0.7210 - val_loss: 0.5610 - val_accuracy: 0.7561\n",
      "Epoch 36/90\n",
      "16/16 - 0s - loss: 0.5332 - accuracy: 0.7230 - val_loss: 1.0802 - val_accuracy: 0.7236\n",
      "Epoch 37/90\n",
      "16/16 - 0s - loss: 0.5735 - accuracy: 0.6884 - val_loss: 0.5450 - val_accuracy: 0.7642\n",
      "Epoch 38/90\n",
      "16/16 - 0s - loss: 0.5907 - accuracy: 0.6925 - val_loss: 0.9450 - val_accuracy: 0.7317\n",
      "Epoch 39/90\n",
      "16/16 - 0s - loss: 0.5613 - accuracy: 0.7026 - val_loss: 0.5639 - val_accuracy: 0.7561\n",
      "Epoch 40/90\n",
      "16/16 - 0s - loss: 0.5510 - accuracy: 0.6965 - val_loss: 0.5684 - val_accuracy: 0.7154\n",
      "Epoch 41/90\n",
      "16/16 - 0s - loss: 0.5553 - accuracy: 0.6965 - val_loss: 0.6531 - val_accuracy: 0.7236\n",
      "Epoch 42/90\n",
      "16/16 - 0s - loss: 0.5505 - accuracy: 0.7149 - val_loss: 0.8620 - val_accuracy: 0.6911\n",
      "Epoch 43/90\n",
      "16/16 - 0s - loss: 0.5497 - accuracy: 0.7230 - val_loss: 0.6143 - val_accuracy: 0.7236\n",
      "Epoch 44/90\n",
      "16/16 - 0s - loss: 0.5508 - accuracy: 0.7291 - val_loss: 0.5598 - val_accuracy: 0.7398\n",
      "Epoch 45/90\n",
      "16/16 - 0s - loss: 0.5586 - accuracy: 0.7128 - val_loss: 0.5597 - val_accuracy: 0.7236\n",
      "Epoch 46/90\n",
      "16/16 - 0s - loss: 0.5660 - accuracy: 0.7251 - val_loss: 0.6725 - val_accuracy: 0.6829\n",
      "Epoch 47/90\n",
      "16/16 - 0s - loss: 0.5590 - accuracy: 0.7047 - val_loss: 1.1227 - val_accuracy: 0.7398\n",
      "Epoch 48/90\n",
      "16/16 - 0s - loss: 0.5700 - accuracy: 0.6884 - val_loss: 0.5609 - val_accuracy: 0.7480\n",
      "Epoch 49/90\n",
      "16/16 - 0s - loss: 0.5528 - accuracy: 0.7047 - val_loss: 0.5713 - val_accuracy: 0.7398\n",
      "Epoch 50/90\n",
      "16/16 - 0s - loss: 0.5386 - accuracy: 0.7108 - val_loss: 0.5644 - val_accuracy: 0.7561\n",
      "Epoch 51/90\n",
      "16/16 - 0s - loss: 0.5310 - accuracy: 0.7271 - val_loss: 0.6663 - val_accuracy: 0.6911\n",
      "Epoch 52/90\n",
      "16/16 - 0s - loss: 0.5306 - accuracy: 0.7169 - val_loss: 1.3396 - val_accuracy: 0.7154\n",
      "Epoch 53/90\n",
      "16/16 - 0s - loss: 0.5541 - accuracy: 0.6986 - val_loss: 0.5708 - val_accuracy: 0.7317\n",
      "Epoch 54/90\n",
      "16/16 - 0s - loss: 0.5491 - accuracy: 0.7169 - val_loss: 0.5609 - val_accuracy: 0.7398\n",
      "Epoch 55/90\n",
      "16/16 - 0s - loss: 0.5416 - accuracy: 0.7251 - val_loss: 0.5596 - val_accuracy: 0.7317\n",
      "Epoch 56/90\n",
      "16/16 - 0s - loss: 0.5790 - accuracy: 0.7047 - val_loss: 0.5673 - val_accuracy: 0.7236\n",
      "Epoch 57/90\n",
      "16/16 - 0s - loss: 0.5381 - accuracy: 0.7230 - val_loss: 0.5659 - val_accuracy: 0.7561\n",
      "Epoch 58/90\n",
      "16/16 - 0s - loss: 0.5610 - accuracy: 0.7210 - val_loss: 0.5509 - val_accuracy: 0.7561\n",
      "Epoch 59/90\n",
      "16/16 - 0s - loss: 0.5441 - accuracy: 0.7108 - val_loss: 0.5510 - val_accuracy: 0.7561\n",
      "Epoch 60/90\n",
      "16/16 - 0s - loss: 0.5918 - accuracy: 0.7251 - val_loss: 0.6505 - val_accuracy: 0.7154\n",
      "Epoch 61/90\n",
      "16/16 - 0s - loss: 0.5427 - accuracy: 0.7128 - val_loss: 0.5437 - val_accuracy: 0.7236\n",
      "Epoch 62/90\n",
      "16/16 - 0s - loss: 0.5275 - accuracy: 0.7495 - val_loss: 0.6568 - val_accuracy: 0.7317\n",
      "Epoch 63/90\n",
      "16/16 - 0s - loss: 0.5402 - accuracy: 0.7108 - val_loss: 1.3489 - val_accuracy: 0.7398\n",
      "Epoch 64/90\n",
      "16/16 - 0s - loss: 0.5525 - accuracy: 0.7210 - val_loss: 0.5549 - val_accuracy: 0.7805\n",
      "Epoch 65/90\n",
      "16/16 - 0s - loss: 0.5511 - accuracy: 0.7210 - val_loss: 0.5512 - val_accuracy: 0.7561\n",
      "Epoch 66/90\n",
      "16/16 - 0s - loss: 0.5315 - accuracy: 0.7332 - val_loss: 0.6626 - val_accuracy: 0.6829\n",
      "Epoch 67/90\n",
      "16/16 - 0s - loss: 0.5405 - accuracy: 0.7332 - val_loss: 0.5680 - val_accuracy: 0.7480\n",
      "Epoch 68/90\n",
      "16/16 - 0s - loss: 0.5839 - accuracy: 0.7169 - val_loss: 0.5751 - val_accuracy: 0.7480\n",
      "Epoch 69/90\n",
      "16/16 - 0s - loss: 0.5454 - accuracy: 0.7251 - val_loss: 0.6569 - val_accuracy: 0.7480\n",
      "Epoch 70/90\n",
      "16/16 - 0s - loss: 0.5330 - accuracy: 0.7230 - val_loss: 0.6772 - val_accuracy: 0.7154\n",
      "Epoch 71/90\n",
      "16/16 - 0s - loss: 0.5362 - accuracy: 0.7210 - val_loss: 0.6144 - val_accuracy: 0.7480\n",
      "Epoch 72/90\n",
      "16/16 - 0s - loss: 0.5337 - accuracy: 0.7312 - val_loss: 1.1655 - val_accuracy: 0.7398\n",
      "Epoch 73/90\n",
      "16/16 - 0s - loss: 0.5283 - accuracy: 0.7149 - val_loss: 0.8309 - val_accuracy: 0.7724\n",
      "Epoch 74/90\n",
      "16/16 - 0s - loss: 0.5458 - accuracy: 0.7251 - val_loss: 0.5593 - val_accuracy: 0.7561\n",
      "Epoch 75/90\n",
      "16/16 - 0s - loss: 0.5422 - accuracy: 0.7251 - val_loss: 0.6109 - val_accuracy: 0.7317\n",
      "Epoch 76/90\n",
      "16/16 - 0s - loss: 0.5567 - accuracy: 0.7291 - val_loss: 0.5705 - val_accuracy: 0.7073\n",
      "Epoch 77/90\n",
      "16/16 - 0s - loss: 0.5361 - accuracy: 0.7312 - val_loss: 0.5912 - val_accuracy: 0.7236\n",
      "Epoch 78/90\n",
      "16/16 - 0s - loss: 0.5602 - accuracy: 0.7413 - val_loss: 0.5793 - val_accuracy: 0.7480\n",
      "Epoch 79/90\n",
      "16/16 - 0s - loss: 0.5214 - accuracy: 0.7169 - val_loss: 0.5521 - val_accuracy: 0.7561\n",
      "Epoch 80/90\n",
      "16/16 - 0s - loss: 0.5577 - accuracy: 0.7515 - val_loss: 0.6867 - val_accuracy: 0.7480\n",
      "Epoch 81/90\n",
      "16/16 - 0s - loss: 0.5341 - accuracy: 0.7291 - val_loss: 0.6594 - val_accuracy: 0.7561\n",
      "Epoch 82/90\n",
      "16/16 - 0s - loss: 0.5398 - accuracy: 0.7332 - val_loss: 0.5637 - val_accuracy: 0.7154\n",
      "Epoch 83/90\n",
      "16/16 - 0s - loss: 0.5469 - accuracy: 0.7434 - val_loss: 0.6848 - val_accuracy: 0.6829\n"
     ]
    },
    {
     "name": "stdout",
     "output_type": "stream",
     "text": [
      "Epoch 84/90\n",
      "16/16 - 0s - loss: 0.5375 - accuracy: 0.7251 - val_loss: 0.6725 - val_accuracy: 0.7236\n",
      "Epoch 85/90\n",
      "16/16 - 0s - loss: 0.5263 - accuracy: 0.7454 - val_loss: 0.6218 - val_accuracy: 0.7317\n",
      "Epoch 86/90\n",
      "16/16 - 0s - loss: 0.5507 - accuracy: 0.7515 - val_loss: 0.5751 - val_accuracy: 0.7317\n",
      "Epoch 87/90\n",
      "16/16 - 0s - loss: 0.5282 - accuracy: 0.7271 - val_loss: 0.8815 - val_accuracy: 0.7073\n",
      "Epoch 88/90\n",
      "16/16 - 0s - loss: 0.5540 - accuracy: 0.7251 - val_loss: 0.6181 - val_accuracy: 0.7398\n",
      "Epoch 89/90\n",
      "16/16 - 0s - loss: 0.5320 - accuracy: 0.7149 - val_loss: 0.5882 - val_accuracy: 0.7073\n",
      "Epoch 90/90\n",
      "16/16 - 0s - loss: 0.5186 - accuracy: 0.7332 - val_loss: 0.5765 - val_accuracy: 0.7073\n"
     ]
    }
   ],
   "source": [
    "history2 = my_model.fit(xtrain, ytrain, validation_split=0.20, epochs=90, verbose=2)\n",
    "# validation_split = Fraction des données d'apprentissage à utiliser comme données de validation\n",
    "# epochs = cycle d'apprentissage"
   ]
  },
  {
   "cell_type": "code",
   "execution_count": 690,
   "id": "63a5b97f",
   "metadata": {},
   "outputs": [
    {
     "name": "stdout",
     "output_type": "stream",
     "text": [
      "5/5 [==============================] - 0s 2ms/step - loss: 0.6866 - accuracy: 0.7013\n"
     ]
    },
    {
     "data": {
      "text/plain": [
       "[0.6865954995155334, 0.701298713684082]"
      ]
     },
     "execution_count": 690,
     "metadata": {},
     "output_type": "execute_result"
    }
   ],
   "source": [
    "my_model.evaluate(xtest,ytest)"
   ]
  },
  {
   "cell_type": "code",
   "execution_count": 656,
   "id": "62c656cf",
   "metadata": {},
   "outputs": [],
   "source": [
    "#my_model.save('mod72best.h5')"
   ]
  },
  {
   "cell_type": "code",
   "execution_count": 600,
   "id": "2b494b3a",
   "metadata": {},
   "outputs": [
    {
     "data": {
      "image/png": "[encoded data removed]",
      "text/plain": [
       "<Figure size 432x288 with 1 Axes>"
      ]
     },
     "metadata": {
      "needs_background": "light"
     },
     "output_type": "display_data"
    }
   ],
   "source": [
    "### le development de la précision et le loss\n",
    "plt.plot(history2.history['accuracy'])\n",
    "plt.plot(history2.history['loss'])\n",
    "plt.legend(['acc','loss'])\n",
    "plt.show()"
   ]
  },
  {
   "cell_type": "markdown",
   "id": "c1250a6a",
   "metadata": {},
   "source": [
    "# Conclusion"
   ]
  },
  {
   "cell_type": "markdown",
   "id": "6602433d",
   "metadata": {},
   "source": [
    "### La courbe de ROC pour comparer entre le DEEP LEARNING (réseau de neurons) et le MACHIN LEARNING (arbre de décision)"
   ]
  },
  {
   "cell_type": "code",
   "execution_count": 1227,
   "id": "e34b87ba",
   "metadata": {},
   "outputs": [],
   "source": [
    "my_model = tf.keras.models.load_model(\"mod70.h5\")"
   ]
  },
  {
   "cell_type": "code",
   "execution_count": 1228,
   "id": "2c36130f",
   "metadata": {},
   "outputs": [
    {
     "name": "stdout",
     "output_type": "stream",
     "text": [
      "5/5 [==============================] - 0s 2ms/step - loss: 0.5437 - accuracy: 0.7208\n"
     ]
    },
    {
     "data": {
      "text/plain": [
       "[0.5436854958534241, 0.7207792401313782]"
      ]
     },
     "execution_count": 1228,
     "metadata": {},
     "output_type": "execute_result"
    }
   ],
   "source": [
    "my_model.evaluate(xtest,ytest)"
   ]
  },
  {
   "cell_type": "code",
   "execution_count": 1229,
   "id": "48ed98c9",
   "metadata": {},
   "outputs": [],
   "source": [
    "#calcul des prédictions\n",
    "y_test_predNEU=my_model.predict(xtest)"
   ]
  },
  {
   "cell_type": "code",
   "execution_count": 1230,
   "id": "ca9ec29c",
   "metadata": {},
   "outputs": [],
   "source": [
    "fprN, tprN, thrN = metrics.roc_curve(ytest, y_test_predNEU)"
   ]
  },
  {
   "cell_type": "code",
   "execution_count": 1231,
   "id": "0a91f0f3",
   "metadata": {},
   "outputs": [],
   "source": [
    "#calcule des surface\n",
    "aucN = metrics.auc(fprN, tprN)"
   ]
  },
  {
   "cell_type": "code",
   "execution_count": 1232,
   "id": "cc3322a3",
   "metadata": {},
   "outputs": [
    {
     "data": {
      "image/png": "[encoded data removed]",
      "text/plain": [
       "<Figure size 576x576 with 1 Axes>"
      ]
     },
     "metadata": {
      "needs_background": "light"
     },
     "output_type": "display_data"
    }
   ],
   "source": [
    "#on plot la courbe de ROC\n",
    "fig = plt.figure(figsize=(8, 8))\n",
    "plt.plot(fprC, tprC, 'g-', lw=2, label='gamma=0.01, AUCNeu=%.2f' % aucN)\n",
    "plt.plot(fprK, tprK, 'r-', lw=2, label='gamma=0.01, AUCTree=%.2f' % aucT)\n",
    "plt.xlabel('False Positive Rate', fontsize=16)\n",
    "plt.ylabel('True Positive Rate', fontsize=16)\n",
    "plt.title('Tree and Neuron ROC Curve', fontsize=16)\n",
    "plt.legend(loc=\"lower right\", fontsize=14)\n",
    "plt.show()"
   ]
  },
  {
   "cell_type": "code",
   "execution_count": null,
   "id": "5a8ca525",
   "metadata": {},
   "outputs": [],
   "source": []
  },
  {
   "cell_type": "code",
   "execution_count": null,
   "id": "5a7ff80b",
   "metadata": {},
   "outputs": [],
   "source": []
  },
  {
   "cell_type": "code",
   "execution_count": null,
   "id": "d7e29dd8",
   "metadata": {},
   "outputs": [],
   "source": []
  },
  {
   "cell_type": "code",
   "execution_count": null,
   "id": "aee18c6e",
   "metadata": {},
   "outputs": [],
   "source": []
  }
 ],
 "metadata": {
  "kernelspec": {
   "display_name": "Python 3 (ipykernel)",
   "language": "python",
   "name": "python3"
  },
  "language_info": {
   "codemirror_mode": {
    "name": "ipython",
    "version": 3
   },
   "file_extension": ".py",
   "mimetype": "text/x-python",
   "name": "python",
   "nbconvert_exporter": "python",
   "pygments_lexer": "ipython3",
   "version": "3.9.7"
  }
 },
 "nbformat": 4,
 "nbformat_minor": 5
}
